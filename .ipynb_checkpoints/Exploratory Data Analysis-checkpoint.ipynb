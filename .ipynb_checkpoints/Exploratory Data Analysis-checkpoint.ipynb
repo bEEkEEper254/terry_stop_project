{
 "cells": [
  {
   "cell_type": "markdown",
   "metadata": {},
   "source": [
    "# EXPLORATORY DATA ANALYSIS \n",
    "### Purpose \n",
    "\n",
    "1.To determine the independent variable\n",
    "\n",
    "2.To uncover the relationship between the independent variables\n",
    "\n",
    "3.To determine the relationship between the dependent and independent variables."
   ]
  },
  {
   "cell_type": "code",
   "execution_count": 73,
   "metadata": {},
   "outputs": [],
   "source": [
    "#importing the relevant libraries\n",
    "import pandas as pd\n",
    "import matplotlib.pyplot as plt\n",
    "import seaborn as sns\n",
    "%matplotlib inline\n",
    "import warnings\n",
    "from pandasql import sqldf\n",
    "\n",
    "warnings.filterwarnings(\"ignore\")"
   ]
  },
  {
   "cell_type": "markdown",
   "metadata": {},
   "source": [
    "During the analysis it was noticed that stop_resolution and arrest flag had similar values.One of this is to be the dependent variable.let us look at their correlation. "
   ]
  },
  {
   "cell_type": "code",
   "execution_count": 74,
   "metadata": {},
   "outputs": [],
   "source": [
    "#loading the data\n",
    "df=pd.read_csv(\"EDA_data.csv\")"
   ]
  },
  {
   "cell_type": "code",
   "execution_count": 75,
   "metadata": {},
   "outputs": [
    {
     "name": "stdout",
     "output_type": "stream",
     "text": [
      "<class 'pandas.core.frame.DataFrame'>\n",
      "RangeIndex: 61459 entries, 0 to 61458\n",
      "Data columns (total 21 columns):\n",
      " #   Column                    Non-Null Count  Dtype \n",
      "---  ------                    --------------  ----- \n",
      " 0   Unnamed: 0                61459 non-null  int64 \n",
      " 1   Subject Age Group         61459 non-null  object\n",
      " 2   Stop Resolution           61459 non-null  object\n",
      " 3   Weapon Type               61459 non-null  object\n",
      " 4   Officer YOB               61459 non-null  int64 \n",
      " 5   Subject Perceived Race    61459 non-null  object\n",
      " 6   Subject Perceived Gender  61459 non-null  object\n",
      " 7   Initial Call Type         61459 non-null  object\n",
      " 8   Final Call Type           61459 non-null  object\n",
      " 9   Call Type                 61459 non-null  object\n",
      " 10  Officer Squad             61459 non-null  object\n",
      " 11  Arrest Flag               61459 non-null  int64 \n",
      " 12  Frisk Flag                61459 non-null  int64 \n",
      " 13  Precinct                  61459 non-null  object\n",
      " 14  Sector                    61459 non-null  object\n",
      " 15  Beat                      61459 non-null  object\n",
      " 16  reported_Year             61459 non-null  int64 \n",
      " 17  reported_Month            61459 non-null  int64 \n",
      " 18  reported_Day              61459 non-null  int64 \n",
      " 19  day_of_week               61459 non-null  int64 \n",
      " 20  Time                      61459 non-null  int64 \n",
      "dtypes: int64(9), object(12)\n",
      "memory usage: 9.8+ MB\n"
     ]
    }
   ],
   "source": [
    "df.info()"
   ]
  },
  {
   "cell_type": "code",
   "execution_count": 76,
   "metadata": {},
   "outputs": [],
   "source": [
    "#dropping the collumn Unnamed: 0\n",
    "df=df.drop(columns=[\"Unnamed: 0\"])"
   ]
  },
  {
   "cell_type": "markdown",
   "metadata": {},
   "source": [
    "### 1.What is the distribution of over the years"
   ]
  },
  {
   "cell_type": "code",
   "execution_count": 77,
   "metadata": {},
   "outputs": [],
   "source": [
    "#Create a lambda function to pass locals or globals to pandasql\n",
    "pysqldf = lambda q:sqldf(q, globals())"
   ]
  },
  {
   "cell_type": "code",
   "execution_count": 78,
   "metadata": {},
   "outputs": [
    {
     "data": {
      "text/html": [
       "<div>\n",
       "<style scoped>\n",
       "    .dataframe tbody tr th:only-of-type {\n",
       "        vertical-align: middle;\n",
       "    }\n",
       "\n",
       "    .dataframe tbody tr th {\n",
       "        vertical-align: top;\n",
       "    }\n",
       "\n",
       "    .dataframe thead th {\n",
       "        text-align: right;\n",
       "    }\n",
       "</style>\n",
       "<table border=\"1\" class=\"dataframe\">\n",
       "  <thead>\n",
       "    <tr style=\"text-align: right;\">\n",
       "      <th></th>\n",
       "      <th>reported_Year</th>\n",
       "      <th>terry_stops</th>\n",
       "    </tr>\n",
       "  </thead>\n",
       "  <tbody>\n",
       "    <tr>\n",
       "      <th>0</th>\n",
       "      <td>2015</td>\n",
       "      <td>6746</td>\n",
       "    </tr>\n",
       "    <tr>\n",
       "      <th>1</th>\n",
       "      <td>2016</td>\n",
       "      <td>7704</td>\n",
       "    </tr>\n",
       "    <tr>\n",
       "      <th>2</th>\n",
       "      <td>2017</td>\n",
       "      <td>7469</td>\n",
       "    </tr>\n",
       "    <tr>\n",
       "      <th>3</th>\n",
       "      <td>2018</td>\n",
       "      <td>8851</td>\n",
       "    </tr>\n",
       "    <tr>\n",
       "      <th>4</th>\n",
       "      <td>2019</td>\n",
       "      <td>8190</td>\n",
       "    </tr>\n",
       "    <tr>\n",
       "      <th>5</th>\n",
       "      <td>2020</td>\n",
       "      <td>6128</td>\n",
       "    </tr>\n",
       "    <tr>\n",
       "      <th>6</th>\n",
       "      <td>2021</td>\n",
       "      <td>4228</td>\n",
       "    </tr>\n",
       "    <tr>\n",
       "      <th>7</th>\n",
       "      <td>2022</td>\n",
       "      <td>4626</td>\n",
       "    </tr>\n",
       "    <tr>\n",
       "      <th>8</th>\n",
       "      <td>2023</td>\n",
       "      <td>4049</td>\n",
       "    </tr>\n",
       "    <tr>\n",
       "      <th>9</th>\n",
       "      <td>2024</td>\n",
       "      <td>3468</td>\n",
       "    </tr>\n",
       "  </tbody>\n",
       "</table>\n",
       "</div>"
      ],
      "text/plain": [
       "   reported_Year  terry_stops\n",
       "0           2015         6746\n",
       "1           2016         7704\n",
       "2           2017         7469\n",
       "3           2018         8851\n",
       "4           2019         8190\n",
       "5           2020         6128\n",
       "6           2021         4228\n",
       "7           2022         4626\n",
       "8           2023         4049\n",
       "9           2024         3468"
      ]
     },
     "execution_count": 78,
     "metadata": {},
     "output_type": "execute_result"
    }
   ],
   "source": [
    "q1=\"\"\"\n",
    "SELECT reported_Year,COUNT(\"Arrest Flag\")as \"terry_stops\"\n",
    "FROM df\n",
    "GROUP BY reported_Year\n",
    "\"\"\"\n",
    "year_vs_arrest=pysqldf(q1)\n",
    "year_vs_arrest"
   ]
  },
  {
   "cell_type": "code",
   "execution_count": 79,
   "metadata": {},
   "outputs": [
    {
     "data": {
      "image/png": "[encoded data removed]",
      "text/plain": [
       "<Figure size 1080x576 with 1 Axes>"
      ]
     },
     "metadata": {
      "needs_background": "light"
     },
     "output_type": "display_data"
    }
   ],
   "source": [
    "plt.figure(figsize=(15, 8))\n",
    "plt.plot(year_vs_arrest[\"reported_Year\"], year_vs_arrest[\"terry_stops\"], color='skyblue')\n",
    "\n",
    "# Adding labels and title\n",
    "plt.xlabel('Year', fontsize=12)\n",
    "plt.ylabel('Number of stops', fontsize=12)\n",
    "plt.title('Number of stops per Year (2015-2024)', fontsize=14)\n",
    "plt.xticks(year_vs_arrest[\"reported_Year\"], rotation=45)  # Rotate for readability if needed\n",
    "plt.tight_layout()\n",
    "plt.show()\n"
   ]
  },
  {
   "cell_type": "markdown",
   "metadata": {},
   "source": [
    "### observation\n",
    "The data shows that the number of terry stops steadily increased from the year 2015 with the peak number of terry stops being in the year 2018.There after,the number of terry stops decreased with the record lowest being in 2024 with only 3468 terry stops."
   ]
  },
  {
   "cell_type": "markdown",
   "metadata": {},
   "source": [
    "### 2. How many terry stops led to an arrest?"
   ]
  },
  {
   "cell_type": "code",
   "execution_count": 80,
   "metadata": {},
   "outputs": [
    {
     "data": {
      "text/html": [
       "<div>\n",
       "<style scoped>\n",
       "    .dataframe tbody tr th:only-of-type {\n",
       "        vertical-align: middle;\n",
       "    }\n",
       "\n",
       "    .dataframe tbody tr th {\n",
       "        vertical-align: top;\n",
       "    }\n",
       "\n",
       "    .dataframe thead th {\n",
       "        text-align: right;\n",
       "    }\n",
       "</style>\n",
       "<table border=\"1\" class=\"dataframe\">\n",
       "  <thead>\n",
       "    <tr style=\"text-align: right;\">\n",
       "      <th></th>\n",
       "      <th>Arrest Flag</th>\n",
       "      <th>outcome</th>\n",
       "    </tr>\n",
       "  </thead>\n",
       "  <tbody>\n",
       "    <tr>\n",
       "      <th>0</th>\n",
       "      <td>0</td>\n",
       "      <td>54699</td>\n",
       "    </tr>\n",
       "    <tr>\n",
       "      <th>1</th>\n",
       "      <td>1</td>\n",
       "      <td>6760</td>\n",
       "    </tr>\n",
       "  </tbody>\n",
       "</table>\n",
       "</div>"
      ],
      "text/plain": [
       "   Arrest Flag  outcome\n",
       "0            0    54699\n",
       "1            1     6760"
      ]
     },
     "execution_count": 80,
     "metadata": {},
     "output_type": "execute_result"
    }
   ],
   "source": [
    "q2=\"\"\"\n",
    "SELECT \"Arrest Flag\" ,COUNT(\"Arrest Flag\") AS \"outcome\"\n",
    "FROM df\n",
    "GROUP BY \"Arrest Flag\"\n",
    "\"\"\"\n",
    "arrest=pysqldf(q2)\n",
    "arrest"
   ]
  },
  {
   "cell_type": "code",
   "execution_count": 81,
   "metadata": {},
   "outputs": [
    {
     "data": {
      "image/png": "[encoded data removed]",
      "text/plain": [
       "<Figure size 1080x576 with 1 Axes>"
      ]
     },
     "metadata": {
      "needs_background": "light"
     },
     "output_type": "display_data"
    }
   ],
   "source": [
    "# Correcting the code\n",
    "plt.figure(figsize=(15, 8))\n",
    "\n",
    "# Replace arrest[\"outcome\"] and arrest[\"Arrest Flag\"] with the correct mappings\n",
    "outcomes = [\"No Arrest\", \"Arrest\"]\n",
    "counts = [54699, 6760]\n",
    "# Plot the bar chart\n",
    "plt.bar(outcomes, counts, color=['lightcoral', 'lightgreen'], edgecolor='black')\n",
    "# Adding labels and title\n",
    "plt.xlabel('Outcome', fontsize=12)\n",
    "plt.ylabel('Count', fontsize=12)\n",
    "plt.title('Distribution of Outcomes: No Arrest vs Arrest', fontsize=14)\n",
    "plt.tight_layout()  # Add parentheses to execute the function\n",
    "\n",
    "# Show the plot\n",
    "plt.show()\n",
    "\n"
   ]
  },
  {
   "cell_type": "markdown",
   "metadata": {},
   "source": [
    "### Observation \n",
    "It is observed that the arrest made were 6760 accounting for only 10% of the total observations.This begs the question should terry stops be stopped?"
   ]
  },
  {
   "cell_type": "markdown",
   "metadata": {},
   "source": [
    "### 3.what arrests were made based on the call type?"
   ]
  },
  {
   "cell_type": "code",
   "execution_count": 82,
   "metadata": {},
   "outputs": [
    {
     "name": "stdout",
     "output_type": "stream",
     "text": [
      "                       Call Type  Arrest Count\n",
      "0                            911          4506\n",
      "1                         ONVIEW          1421\n",
      "2       TELEPHONE OTHER, NOT 911           502\n",
      "3                        UNKNOWN           234\n",
      "4  ALARM CALL (NOT POLICE ALARM)            88\n",
      "5                    OTHER CALLS             9\n"
     ]
    }
   ],
   "source": [
    "q3 = \"\"\"\n",
    "SELECT \"Call Type\", COUNT(*) AS \"Arrest Count\"\n",
    "FROM df\n",
    "WHERE \"Arrest Flag\" = 1\n",
    "GROUP BY \"Call Type\"\n",
    "ORDER BY \"Arrest Count\" DESC\n",
    "\"\"\"\n",
    "arrest_call = pysqldf(q3)\n",
    "print(arrest_call)\n"
   ]
  },
  {
   "cell_type": "markdown",
   "metadata": {},
   "source": [
    "911 accounnted for the largest number of arrests at 4506 followed by onview at 1421 ,telephone other(not911) at 502,unknown at 234 and alarm call and arrests made based on alarm call and other types of calls cumulated to 97 "
   ]
  },
  {
   "cell_type": "code",
   "execution_count": null,
   "metadata": {},
   "outputs": [],
   "source": [
    "### 4.what age resulted to most  arrests and is there a correlation between age and number of arrests?"
   ]
  },
  {
   "cell_type": "code",
   "execution_count": 94,
   "metadata": {},
   "outputs": [
    {
     "name": "stdout",
     "output_type": "stream",
     "text": [
      "  Subject Age Group  Arrest Count  Arrest Percentage\n",
      "0            1 - 17           137           2.026627\n",
      "1           18 - 25          1108          16.390533\n",
      "2           26 - 35          2443          36.139053\n",
      "3           36 - 45          1797          26.582840\n",
      "4           46 - 55           857          12.677515\n",
      "5      56 and Above           377           5.576923\n",
      "6           Unknown            41           0.606509\n"
     ]
    }
   ],
   "source": [
    "q4 = \"\"\"\n",
    "SELECT \"Subject Age Group\", CAST(COUNT(\"Arrest Flag\") AS INTEGER) AS \"Arrest Count\",\n",
    "FROM df\n",
    "WHERE \"Arrest Flag\" = 1\n",
    "GROUP BY \"Subject Age Group\"\n",
    "ORDER BY \"Subject Age Group\" \n",
    "\"\"\"\n",
    "total_arrests = arrest_age[\"Arrest Count\"].sum()\n",
    "# Adding a new column for the percentage\n",
    "arrest_age[\"Arrest Percentage\"] = (arrest_age[\"Arrest Count\"] / total_arrests) * 100\n",
    "print(arrest_age)\n"
   ]
  },
  {
   "cell_type": "markdown",
   "metadata": {},
   "source": [
    "ages in the range of 26-35 contibuted 36% of the arrests made followed by ages between 36 and 45 which contributed about 27%.Age group 1-17 accounted for the least arrests followed by ages 46-55 at 5.5%"
   ]
  },
  {
   "cell_type": "code",
   "execution_count": 107,
   "metadata": {},
   "outputs": [
    {
     "data": {
      "text/html": [
       "<div>\n",
       "<style scoped>\n",
       "    .dataframe tbody tr th:only-of-type {\n",
       "        vertical-align: middle;\n",
       "    }\n",
       "\n",
       "    .dataframe tbody tr th {\n",
       "        vertical-align: top;\n",
       "    }\n",
       "\n",
       "    .dataframe thead th {\n",
       "        text-align: right;\n",
       "    }\n",
       "</style>\n",
       "<table border=\"1\" class=\"dataframe\">\n",
       "  <thead>\n",
       "    <tr style=\"text-align: right;\">\n",
       "      <th></th>\n",
       "      <th>Precinct</th>\n",
       "      <th>COUNT(\"Precinct\")</th>\n",
       "      <th>Beat</th>\n",
       "    </tr>\n",
       "  </thead>\n",
       "  <tbody>\n",
       "    <tr>\n",
       "      <th>0</th>\n",
       "      <td>East</td>\n",
       "      <td>1021</td>\n",
       "      <td>G3</td>\n",
       "    </tr>\n",
       "    <tr>\n",
       "      <th>1</th>\n",
       "      <td>FK ERROR</td>\n",
       "      <td>4</td>\n",
       "      <td>99</td>\n",
       "    </tr>\n",
       "    <tr>\n",
       "      <th>2</th>\n",
       "      <td>North</td>\n",
       "      <td>1137</td>\n",
       "      <td>N2</td>\n",
       "    </tr>\n",
       "    <tr>\n",
       "      <th>3</th>\n",
       "      <td>OOJ</td>\n",
       "      <td>8</td>\n",
       "      <td>OOJ</td>\n",
       "    </tr>\n",
       "    <tr>\n",
       "      <th>4</th>\n",
       "      <td>South</td>\n",
       "      <td>967</td>\n",
       "      <td>R2</td>\n",
       "    </tr>\n",
       "    <tr>\n",
       "      <th>5</th>\n",
       "      <td>Southwest</td>\n",
       "      <td>658</td>\n",
       "      <td>F1</td>\n",
       "    </tr>\n",
       "    <tr>\n",
       "      <th>6</th>\n",
       "      <td>Unknown</td>\n",
       "      <td>359</td>\n",
       "      <td>UNKNOWN</td>\n",
       "    </tr>\n",
       "    <tr>\n",
       "      <th>7</th>\n",
       "      <td>West</td>\n",
       "      <td>2606</td>\n",
       "      <td>M3</td>\n",
       "    </tr>\n",
       "  </tbody>\n",
       "</table>\n",
       "</div>"
      ],
      "text/plain": [
       "    Precinct  COUNT(\"Precinct\")     Beat\n",
       "0       East               1021       G3\n",
       "1   FK ERROR                  4       99\n",
       "2      North               1137       N2\n",
       "3        OOJ                  8      OOJ\n",
       "4      South                967       R2\n",
       "5  Southwest                658       F1\n",
       "6    Unknown                359  UNKNOWN\n",
       "7       West               2606       M3"
      ]
     },
     "execution_count": 107,
     "metadata": {},
     "output_type": "execute_result"
    }
   ],
   "source": [
    "q5 = \"\"\"\n",
    "SELECT \"Precinct\",COUNT(\"Precinct\"),\"Beat\"\n",
    "FROM df\n",
    "WHERE \"Arrest Flag\" = 1\n",
    "GROUP BY \"Precinct\"\n",
    "\"\"\"\n",
    "precinct_beat = pysqldf(q5)\n",
    "precinct_beat"
   ]
  },
  {
   "cell_type": "code",
   "execution_count": null,
   "metadata": {},
   "outputs": [],
   "source": [
    "West M3 beat accounted for the most of arrests with 2606 arrests made.this was followed by the north precinct which had 1137 arrests  "
   ]
  }
 ],
 "metadata": {
  "kernelspec": {
   "display_name": "Python 3",
   "language": "python",
   "name": "python3"
  },
  "language_info": {
   "codemirror_mode": {
    "name": "ipython",
    "version": 3
   },
   "file_extension": ".py",
   "mimetype": "text/x-python",
   "name": "python",
   "nbconvert_exporter": "python",
   "pygments_lexer": "ipython3",
   "version": "3.7.6"
  }
 },
 "nbformat": 4,
 "nbformat_minor": 4
}
