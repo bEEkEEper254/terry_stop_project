{
 "cells": [
  {
   "cell_type": "markdown",
   "metadata": {},
   "source": [
    "# TITLE:PREDICTION OF ARREST BASED ON TERRY TRAFFIC STOP"
   ]
  },
  {
   "cell_type": "markdown",
   "metadata": {},
   "source": [
    "![Terry Stop Project Image](b15734dc-3688-4f31-ba91-c1a113f867db.webp)"
   ]
  },
  {
   "cell_type": "markdown",
   "metadata": {},
   "source": [
    "<div style=\"font-family: 'Times New Roman'; font-size: 12pt;\">\n",
    "<h2>Introduction</h2>\n",
    "<p>\n",
    "A Terry Stop, also known as an \"Investigative Detention\" or \"Stop and Frisk,\" allows law enforcement officers to temporarily detain a person for investigation when they reasonably suspect involvement in criminal activity. This stop is used when there is insufficient evidence for an arrest (i.e., no probable cause) but enough suspicion to justify a brief investigation.\n",
    "</p>\n",
    "<p>\n",
    "The primary purpose is to either confirm or dispel the officer's suspicions. If during the stop, probable cause for an arrest arises, the suspect is arrested. If no probable cause is found, the suspect is released.\n",
    "</p>\n",
    "</div>\n"
   ]
  },
  {
   "cell_type": "markdown",
   "metadata": {},
   "source": [
    "\n",
    "<div style=\"font-family: 'Times New Roman'; font-size: 12pt;\">\n",
    "<h2>Problem Statement</h2>\n",
    "<p>\n",
    "Terry stops can disrupt the normal lives of individuals, especially when no arrests are made. During these stops, police officers may spend valuable time that could otherwise be used to address crime in other areas. Additionally, Terry stops initiated through 911 calls can lead to a waste of resources, particularly when they result in no arrests. These stops have also been plagued by concerns of racial profiling, with many individuals believing that the stops are disproportionately based on their race or gender. This has eroded the public’s perception of law enforcement and diminished the confidence they have in the police.\n",
    "\n",
    "Although Terry stops are beneficial in preventing potential crimes, a more balanced approach is needed. To aid in this, a model has been developed to predict whether a Terry stop will result in an arrest. Given that Terry stops can be initiated through various channels such as 911 calls, messages, alarms, and police interactions, this model can help schedule calls appropriately and allocate resources more efficiently.\n",
    "</p>\n",
    "</div>"
   ]
  },
  {
   "cell_type": "markdown",
   "metadata": {},
   "source": [
    "<div style=\"font-family: 'Times New Roman'; font-size: 12pt;\">\n",
    "<h2>Objective </h2>\n",
    "<p>\n",
    "To create a model capable of accurately predicting whether a Terry stop will result in an arrest, aiming for a f1 score exceeding 75% and an accuracy above 85%.\n",
    "</p>\n",
    "</div>"
   ]
  },
  {
   "cell_type": "markdown",
   "metadata": {},
   "source": [
    "<div style=\"font-family: 'Times New Roman'; font-size: 12pt;\">\n",
    "<h2>Data Understanding</h2>\n",
    "<p>\n",
    "The data for this analysis was obtained from the seatle police department.It represents records of police reported stops under Terry v. Ohio, 392 U.S. 1 (1968). Each row represents a unique stop.\n",
    "\n",
    "Each record contains perceived demographics of the subject, as reported by the officer making the stop and officer demographics as reported to the Seattle Police Department\n",
    "The original dataset contained 62020 entries.the officer squad had missing values which were dropped resulting to 61459 entries with 23 columns.Due to the sensitivity and data ethics consideration,gender and race columns were not used in the analysis.\n",
    "\n",
    "the data can be obtined from:http://tiny.cc/l4hzzz\n",
    "        \n",
    "Columns description:http://tiny.cc/c5hzzz\n",
    "</p>\n",
    "</div>"
   ]
  },
  {
   "cell_type": "markdown",
   "metadata": {},
   "source": [
    "## Data Preparation "
   ]
  },
  {
   "cell_type": "code",
   "execution_count": 1,
   "metadata": {},
   "outputs": [
    {
     "data": {
      "text/html": [
       "<div>\n",
       "<style scoped>\n",
       "    .dataframe tbody tr th:only-of-type {\n",
       "        vertical-align: middle;\n",
       "    }\n",
       "\n",
       "    .dataframe tbody tr th {\n",
       "        vertical-align: top;\n",
       "    }\n",
       "\n",
       "    .dataframe thead th {\n",
       "        text-align: right;\n",
       "    }\n",
       "</style>\n",
       "<table border=\"1\" class=\"dataframe\">\n",
       "  <thead>\n",
       "    <tr style=\"text-align: right;\">\n",
       "      <th></th>\n",
       "      <th>Subject Age Group</th>\n",
       "      <th>Subject ID</th>\n",
       "      <th>GO / SC Num</th>\n",
       "      <th>Terry Stop ID</th>\n",
       "      <th>Stop Resolution</th>\n",
       "      <th>Weapon Type</th>\n",
       "      <th>Officer ID</th>\n",
       "      <th>Officer YOB</th>\n",
       "      <th>Officer Gender</th>\n",
       "      <th>Officer Race</th>\n",
       "      <th>...</th>\n",
       "      <th>Reported Time</th>\n",
       "      <th>Initial Call Type</th>\n",
       "      <th>Final Call Type</th>\n",
       "      <th>Call Type</th>\n",
       "      <th>Officer Squad</th>\n",
       "      <th>Arrest Flag</th>\n",
       "      <th>Frisk Flag</th>\n",
       "      <th>Precinct</th>\n",
       "      <th>Sector</th>\n",
       "      <th>Beat</th>\n",
       "    </tr>\n",
       "  </thead>\n",
       "  <tbody>\n",
       "    <tr>\n",
       "      <th>0</th>\n",
       "      <td>46 - 55</td>\n",
       "      <td>-1</td>\n",
       "      <td>20160000003294</td>\n",
       "      <td>178940</td>\n",
       "      <td>Field Contact</td>\n",
       "      <td>None</td>\n",
       "      <td>6902</td>\n",
       "      <td>1969</td>\n",
       "      <td>M</td>\n",
       "      <td>White</td>\n",
       "      <td>...</td>\n",
       "      <td>09:02:00.0000000</td>\n",
       "      <td>-</td>\n",
       "      <td>-</td>\n",
       "      <td>-</td>\n",
       "      <td>WEST PCT 1ST W - KQ/DM RELIEF</td>\n",
       "      <td>N</td>\n",
       "      <td>-</td>\n",
       "      <td>Southwest</td>\n",
       "      <td>W</td>\n",
       "      <td>W2</td>\n",
       "    </tr>\n",
       "    <tr>\n",
       "      <th>1</th>\n",
       "      <td>26 - 35</td>\n",
       "      <td>-1</td>\n",
       "      <td>20160000003741</td>\n",
       "      <td>187898</td>\n",
       "      <td>Field Contact</td>\n",
       "      <td>None</td>\n",
       "      <td>7430</td>\n",
       "      <td>1984</td>\n",
       "      <td>F</td>\n",
       "      <td>White</td>\n",
       "      <td>...</td>\n",
       "      <td>19:53:00.0000000</td>\n",
       "      <td>-</td>\n",
       "      <td>-</td>\n",
       "      <td>-</td>\n",
       "      <td>NORTH PCT 2ND WATCH - NORTH BEATS</td>\n",
       "      <td>N</td>\n",
       "      <td>N</td>\n",
       "      <td>East</td>\n",
       "      <td>C</td>\n",
       "      <td>C1</td>\n",
       "    </tr>\n",
       "    <tr>\n",
       "      <th>2</th>\n",
       "      <td>26 - 35</td>\n",
       "      <td>-1</td>\n",
       "      <td>20150000004367</td>\n",
       "      <td>76437</td>\n",
       "      <td>Field Contact</td>\n",
       "      <td>None</td>\n",
       "      <td>5453</td>\n",
       "      <td>1962</td>\n",
       "      <td>M</td>\n",
       "      <td>White</td>\n",
       "      <td>...</td>\n",
       "      <td>17:58:00.0000000</td>\n",
       "      <td>-</td>\n",
       "      <td>-</td>\n",
       "      <td>-</td>\n",
       "      <td>WEST PCT 2ND W - DAVID BEATS</td>\n",
       "      <td>N</td>\n",
       "      <td>N</td>\n",
       "      <td>-</td>\n",
       "      <td>-</td>\n",
       "      <td>-</td>\n",
       "    </tr>\n",
       "    <tr>\n",
       "      <th>3</th>\n",
       "      <td>46 - 55</td>\n",
       "      <td>-1</td>\n",
       "      <td>20160000000533</td>\n",
       "      <td>126509</td>\n",
       "      <td>Field Contact</td>\n",
       "      <td>None</td>\n",
       "      <td>7597</td>\n",
       "      <td>1982</td>\n",
       "      <td>M</td>\n",
       "      <td>White</td>\n",
       "      <td>...</td>\n",
       "      <td>16:03:00.0000000</td>\n",
       "      <td>-</td>\n",
       "      <td>-</td>\n",
       "      <td>-</td>\n",
       "      <td>NORTH PCT 2ND WATCH - NORTH BEATS</td>\n",
       "      <td>N</td>\n",
       "      <td>N</td>\n",
       "      <td>-</td>\n",
       "      <td>-</td>\n",
       "      <td>-</td>\n",
       "    </tr>\n",
       "    <tr>\n",
       "      <th>4</th>\n",
       "      <td>26 - 35</td>\n",
       "      <td>7726996644</td>\n",
       "      <td>20220000001484</td>\n",
       "      <td>30755907245</td>\n",
       "      <td>Arrest</td>\n",
       "      <td>-</td>\n",
       "      <td>6122</td>\n",
       "      <td>1966</td>\n",
       "      <td>M</td>\n",
       "      <td>White</td>\n",
       "      <td>...</td>\n",
       "      <td>19:12:35.0000000</td>\n",
       "      <td>SHOPLIFT - THEFT</td>\n",
       "      <td>--THEFT - SHOPLIFT</td>\n",
       "      <td>TELEPHONE OTHER, NOT 911</td>\n",
       "      <td>SOUTHWEST PCT 1ST W - WILLIAM - PLATOON 2</td>\n",
       "      <td>Y</td>\n",
       "      <td>Y</td>\n",
       "      <td>Southwest</td>\n",
       "      <td>F</td>\n",
       "      <td>F1</td>\n",
       "    </tr>\n",
       "  </tbody>\n",
       "</table>\n",
       "<p>5 rows × 23 columns</p>\n",
       "</div>"
      ],
      "text/plain": [
       "  Subject Age Group  Subject ID     GO / SC Num  Terry Stop ID  \\\n",
       "0           46 - 55          -1  20160000003294         178940   \n",
       "1           26 - 35          -1  20160000003741         187898   \n",
       "2           26 - 35          -1  20150000004367          76437   \n",
       "3           46 - 55          -1  20160000000533         126509   \n",
       "4           26 - 35  7726996644  20220000001484    30755907245   \n",
       "\n",
       "  Stop Resolution Weapon Type Officer ID  Officer YOB Officer Gender  \\\n",
       "0   Field Contact        None       6902         1969              M   \n",
       "1   Field Contact        None       7430         1984              F   \n",
       "2   Field Contact        None       5453         1962              M   \n",
       "3   Field Contact        None       7597         1982              M   \n",
       "4          Arrest           -       6122         1966              M   \n",
       "\n",
       "  Officer Race  ...     Reported Time Initial Call Type     Final Call Type  \\\n",
       "0        White  ...  09:02:00.0000000                 -                   -   \n",
       "1        White  ...  19:53:00.0000000                 -                   -   \n",
       "2        White  ...  17:58:00.0000000                 -                   -   \n",
       "3        White  ...  16:03:00.0000000                 -                   -   \n",
       "4        White  ...  19:12:35.0000000  SHOPLIFT - THEFT  --THEFT - SHOPLIFT   \n",
       "\n",
       "                  Call Type                              Officer Squad  \\\n",
       "0                         -              WEST PCT 1ST W - KQ/DM RELIEF   \n",
       "1                         -          NORTH PCT 2ND WATCH - NORTH BEATS   \n",
       "2                         -               WEST PCT 2ND W - DAVID BEATS   \n",
       "3                         -          NORTH PCT 2ND WATCH - NORTH BEATS   \n",
       "4  TELEPHONE OTHER, NOT 911  SOUTHWEST PCT 1ST W - WILLIAM - PLATOON 2   \n",
       "\n",
       "  Arrest Flag Frisk Flag   Precinct Sector Beat  \n",
       "0           N          -  Southwest      W   W2  \n",
       "1           N          N       East      C   C1  \n",
       "2           N          N          -      -    -  \n",
       "3           N          N          -      -    -  \n",
       "4           Y          Y  Southwest      F   F1  \n",
       "\n",
       "[5 rows x 23 columns]"
      ]
     },
     "execution_count": 1,
     "metadata": {},
     "output_type": "execute_result"
    }
   ],
   "source": [
    "#importing the relevant libraries and  loading the data.\n",
    "import pandas as pd \n",
    "import numpy as np\n",
    "import seaborn as sns\n",
    "import matplotlib.pyplot as plt\n",
    "%matplotlib inline\n",
    "import warnings\n",
    "warnings.filterwarnings(\"ignore\")\n",
    "Data=pd.read_csv(\"Terry_Stops_20241202.csv\")\n",
    "#checking the first rows of the data frame\n",
    "Data.head()"
   ]
  },
  {
   "cell_type": "code",
   "execution_count": 2,
   "metadata": {},
   "outputs": [
    {
     "name": "stdout",
     "output_type": "stream",
     "text": [
      "<class 'pandas.core.frame.DataFrame'>\n",
      "RangeIndex: 62020 entries, 0 to 62019\n",
      "Data columns (total 23 columns):\n",
      " #   Column                    Non-Null Count  Dtype \n",
      "---  ------                    --------------  ----- \n",
      " 0   Subject Age Group         62020 non-null  object\n",
      " 1   Subject ID                62020 non-null  int64 \n",
      " 2   GO / SC Num               62020 non-null  int64 \n",
      " 3   Terry Stop ID             62020 non-null  int64 \n",
      " 4   Stop Resolution           62020 non-null  object\n",
      " 5   Weapon Type               62020 non-null  object\n",
      " 6   Officer ID                62020 non-null  object\n",
      " 7   Officer YOB               62020 non-null  int64 \n",
      " 8   Officer Gender            62020 non-null  object\n",
      " 9   Officer Race              62020 non-null  object\n",
      " 10  Subject Perceived Race    62020 non-null  object\n",
      " 11  Subject Perceived Gender  62020 non-null  object\n",
      " 12  Reported Date             62020 non-null  object\n",
      " 13  Reported Time             62020 non-null  object\n",
      " 14  Initial Call Type         62020 non-null  object\n",
      " 15  Final Call Type           62020 non-null  object\n",
      " 16  Call Type                 62020 non-null  object\n",
      " 17  Officer Squad             61459 non-null  object\n",
      " 18  Arrest Flag               62020 non-null  object\n",
      " 19  Frisk Flag                62020 non-null  object\n",
      " 20  Precinct                  62020 non-null  object\n",
      " 21  Sector                    62020 non-null  object\n",
      " 22  Beat                      62020 non-null  object\n",
      "dtypes: int64(4), object(19)\n",
      "memory usage: 10.9+ MB\n"
     ]
    }
   ],
   "source": [
    "#checking for general information about the dataframe\n",
    "Data.info()"
   ]
  },
  {
   "cell_type": "code",
   "execution_count": 3,
   "metadata": {},
   "outputs": [],
   "source": [
    "#creating a copy of the original data\n",
    "df=Data.copy()"
   ]
  },
  {
   "cell_type": "markdown",
   "metadata": {},
   "source": [
    "The data frame contains 62020 entries and 23 columns.The data datatypes are of types integer and object.There are also dates but are recorded as object.Missing values are seen in the officer squad column."
   ]
  },
  {
   "cell_type": "code",
   "execution_count": 4,
   "metadata": {},
   "outputs": [
    {
     "data": {
      "text/html": [
       "<div>\n",
       "<style scoped>\n",
       "    .dataframe tbody tr th:only-of-type {\n",
       "        vertical-align: middle;\n",
       "    }\n",
       "\n",
       "    .dataframe tbody tr th {\n",
       "        vertical-align: top;\n",
       "    }\n",
       "\n",
       "    .dataframe thead th {\n",
       "        text-align: right;\n",
       "    }\n",
       "</style>\n",
       "<table border=\"1\" class=\"dataframe\">\n",
       "  <thead>\n",
       "    <tr style=\"text-align: right;\">\n",
       "      <th></th>\n",
       "      <th>Missing Values</th>\n",
       "      <th>Percent Missing</th>\n",
       "    </tr>\n",
       "  </thead>\n",
       "  <tbody>\n",
       "    <tr>\n",
       "      <th>Subject Age Group</th>\n",
       "      <td>0</td>\n",
       "      <td>0.000000</td>\n",
       "    </tr>\n",
       "    <tr>\n",
       "      <th>Subject ID</th>\n",
       "      <td>0</td>\n",
       "      <td>0.000000</td>\n",
       "    </tr>\n",
       "    <tr>\n",
       "      <th>GO / SC Num</th>\n",
       "      <td>0</td>\n",
       "      <td>0.000000</td>\n",
       "    </tr>\n",
       "    <tr>\n",
       "      <th>Terry Stop ID</th>\n",
       "      <td>0</td>\n",
       "      <td>0.000000</td>\n",
       "    </tr>\n",
       "    <tr>\n",
       "      <th>Stop Resolution</th>\n",
       "      <td>0</td>\n",
       "      <td>0.000000</td>\n",
       "    </tr>\n",
       "    <tr>\n",
       "      <th>Weapon Type</th>\n",
       "      <td>0</td>\n",
       "      <td>0.000000</td>\n",
       "    </tr>\n",
       "    <tr>\n",
       "      <th>Officer ID</th>\n",
       "      <td>0</td>\n",
       "      <td>0.000000</td>\n",
       "    </tr>\n",
       "    <tr>\n",
       "      <th>Officer YOB</th>\n",
       "      <td>0</td>\n",
       "      <td>0.000000</td>\n",
       "    </tr>\n",
       "    <tr>\n",
       "      <th>Officer Gender</th>\n",
       "      <td>0</td>\n",
       "      <td>0.000000</td>\n",
       "    </tr>\n",
       "    <tr>\n",
       "      <th>Officer Race</th>\n",
       "      <td>0</td>\n",
       "      <td>0.000000</td>\n",
       "    </tr>\n",
       "    <tr>\n",
       "      <th>Subject Perceived Race</th>\n",
       "      <td>0</td>\n",
       "      <td>0.000000</td>\n",
       "    </tr>\n",
       "    <tr>\n",
       "      <th>Subject Perceived Gender</th>\n",
       "      <td>0</td>\n",
       "      <td>0.000000</td>\n",
       "    </tr>\n",
       "    <tr>\n",
       "      <th>Reported Date</th>\n",
       "      <td>0</td>\n",
       "      <td>0.000000</td>\n",
       "    </tr>\n",
       "    <tr>\n",
       "      <th>Reported Time</th>\n",
       "      <td>0</td>\n",
       "      <td>0.000000</td>\n",
       "    </tr>\n",
       "    <tr>\n",
       "      <th>Initial Call Type</th>\n",
       "      <td>0</td>\n",
       "      <td>0.000000</td>\n",
       "    </tr>\n",
       "    <tr>\n",
       "      <th>Final Call Type</th>\n",
       "      <td>0</td>\n",
       "      <td>0.000000</td>\n",
       "    </tr>\n",
       "    <tr>\n",
       "      <th>Call Type</th>\n",
       "      <td>0</td>\n",
       "      <td>0.000000</td>\n",
       "    </tr>\n",
       "    <tr>\n",
       "      <th>Officer Squad</th>\n",
       "      <td>561</td>\n",
       "      <td>0.904547</td>\n",
       "    </tr>\n",
       "    <tr>\n",
       "      <th>Arrest Flag</th>\n",
       "      <td>0</td>\n",
       "      <td>0.000000</td>\n",
       "    </tr>\n",
       "    <tr>\n",
       "      <th>Frisk Flag</th>\n",
       "      <td>0</td>\n",
       "      <td>0.000000</td>\n",
       "    </tr>\n",
       "    <tr>\n",
       "      <th>Precinct</th>\n",
       "      <td>0</td>\n",
       "      <td>0.000000</td>\n",
       "    </tr>\n",
       "    <tr>\n",
       "      <th>Sector</th>\n",
       "      <td>0</td>\n",
       "      <td>0.000000</td>\n",
       "    </tr>\n",
       "    <tr>\n",
       "      <th>Beat</th>\n",
       "      <td>0</td>\n",
       "      <td>0.000000</td>\n",
       "    </tr>\n",
       "  </tbody>\n",
       "</table>\n",
       "</div>"
      ],
      "text/plain": [
       "                          Missing Values  Percent Missing\n",
       "Subject Age Group                      0         0.000000\n",
       "Subject ID                             0         0.000000\n",
       "GO / SC Num                            0         0.000000\n",
       "Terry Stop ID                          0         0.000000\n",
       "Stop Resolution                        0         0.000000\n",
       "Weapon Type                            0         0.000000\n",
       "Officer ID                             0         0.000000\n",
       "Officer YOB                            0         0.000000\n",
       "Officer Gender                         0         0.000000\n",
       "Officer Race                           0         0.000000\n",
       "Subject Perceived Race                 0         0.000000\n",
       "Subject Perceived Gender               0         0.000000\n",
       "Reported Date                          0         0.000000\n",
       "Reported Time                          0         0.000000\n",
       "Initial Call Type                      0         0.000000\n",
       "Final Call Type                        0         0.000000\n",
       "Call Type                              0         0.000000\n",
       "Officer Squad                        561         0.904547\n",
       "Arrest Flag                            0         0.000000\n",
       "Frisk Flag                             0         0.000000\n",
       "Precinct                               0         0.000000\n",
       "Sector                                 0         0.000000\n",
       "Beat                                   0         0.000000"
      ]
     },
     "execution_count": 4,
     "metadata": {},
     "output_type": "execute_result"
    }
   ],
   "source": [
    "#checking for missing data and their percentage \n",
    "\n",
    "class MissingData:\n",
    "    def __init__(self, data):\n",
    "        self.data = data\n",
    "\n",
    "    def check_missing(self):\n",
    "        missing_data = self.data.isna().sum()\n",
    "        percent_missing = (missing_data / len(self.data)) * 100\n",
    "        \n",
    "        # Creating a DataFrame to return missing data and percentage\n",
    "        results = pd.DataFrame({\n",
    "            'Missing Values': missing_data,\n",
    "            'Percent Missing': percent_missing\n",
    "        })\n",
    "        \n",
    "        return results\n",
    "missing_data=MissingData(df)\n",
    "missing_data=missing_data.check_missing()\n",
    "missing_data"
   ]
  },
  {
   "cell_type": "markdown",
   "metadata": {},
   "source": [
    "Only the officer squad column has missing values at 0.9045%."
   ]
  },
  {
   "cell_type": "markdown",
   "metadata": {},
   "source": [
    "### Data cleaning\n"
   ]
  },
  {
   "cell_type": "code",
   "execution_count": 5,
   "metadata": {},
   "outputs": [
    {
     "data": {
      "text/plain": [
       "0"
      ]
     },
     "execution_count": 5,
     "metadata": {},
     "output_type": "execute_result"
    }
   ],
   "source": [
    "#checking for duplicates\n",
    "df.duplicated().sum()"
   ]
  },
  {
   "cell_type": "markdown",
   "metadata": {},
   "source": [
    "There are no duplicates in the dataset"
   ]
  },
  {
   "cell_type": "code",
   "execution_count": 6,
   "metadata": {},
   "outputs": [],
   "source": [
    "#droppinng the missing values\n",
    "df=Data.dropna()"
   ]
  },
  {
   "cell_type": "code",
   "execution_count": 7,
   "metadata": {},
   "outputs": [
    {
     "data": {
      "text/plain": [
       "(61459, 23)"
      ]
     },
     "execution_count": 7,
     "metadata": {},
     "output_type": "execute_result"
    }
   ],
   "source": [
    "df.shape"
   ]
  },
  {
   "cell_type": "markdown",
   "metadata": {},
   "source": [
    "The resulting dataframe contains 61459 and 23 columns."
   ]
  },
  {
   "cell_type": "code",
   "execution_count": 8,
   "metadata": {},
   "outputs": [],
   "source": [
    "#checking for unique values for the columns \n",
    "class UniqueValues:\n",
    "    def __init__(self, data, column):\n",
    "        self.data = data  \n",
    "        self.column = column  \n",
    "\n",
    "    def checking_unique(self):\n",
    "        unique = self.data[self.column].value_counts()\n",
    "        return unique        "
   ]
  },
  {
   "cell_type": "code",
   "execution_count": 9,
   "metadata": {},
   "outputs": [
    {
     "name": "stdout",
     "output_type": "stream",
     "text": [
      "26 - 35         20544\n",
      "36 - 45         13793\n",
      "18 - 25         11585\n",
      "46 - 55          7797\n",
      "56 and Above     3240\n",
      "1 - 17           2286\n",
      "-                2214\n",
      "Name: Subject Age Group, dtype: int64\n"
     ]
    },
    {
     "data": {
      "text/plain": [
       "26 - 35         0.334272\n",
       "36 - 45         0.224426\n",
       "18 - 25         0.188500\n",
       "46 - 55         0.126865\n",
       "56 and Above    0.052718\n",
       "1 - 17          0.037196\n",
       "Age Unknown     0.036024\n",
       "Name: Subject Age Group, dtype: float64"
      ]
     },
     "execution_count": 9,
     "metadata": {},
     "output_type": "execute_result"
    }
   ],
   "source": [
    "subject_age_group=UniqueValues(df,\"Subject Age Group\")\n",
    "print(subject_age_group.checking_unique())#\n",
    "df[\"Subject Age Group\"]=df[\"Subject Age Group\"].replace(\"-\",\"Age Unknown\")\n",
    "df[\"Subject Age Group\"].value_counts(normalize=True)#checking for percentage of missing values"
   ]
  },
  {
   "cell_type": "markdown",
   "metadata": {},
   "source": [
    "The subject age group is categorical data consisting of different age groups.Age group 26-35 accounts for a majority of stops followed by ages 36-45.Unknown ages and ages 1-17 account for about 6% of the stops."
   ]
  },
  {
   "cell_type": "code",
   "execution_count": 10,
   "metadata": {},
   "outputs": [
    {
     "name": "stdout",
     "output_type": "stream",
     "text": [
      "-1              34747\n",
      " 7753260438        29\n",
      " 7774286580        22\n",
      " 21375848115       21\n",
      " 7726918259        21\n",
      "                ...  \n",
      " 38095058973        1\n",
      " 7730377407         1\n",
      " 54607472558        1\n",
      " 7735110248         1\n",
      " 60787853579        1\n",
      "Name: Subject ID, Length: 17425, dtype: int64\n"
     ]
    }
   ],
   "source": [
    "#checking for subject ID \n",
    "sub_id=UniqueValues(df,\"Subject ID\")\n",
    "print(sub_id.checking_unique())"
   ]
  },
  {
   "cell_type": "markdown",
   "metadata": {},
   "source": [
    "This column contains the subjects identification numbers.It is not a relevant as it is just a unique identifier of a person."
   ]
  },
  {
   "cell_type": "code",
   "execution_count": 11,
   "metadata": {},
   "outputs": [
    {
     "name": "stdout",
     "output_type": "stream",
     "text": [
      "20160000378750    16\n",
      "20150000190790    16\n",
      "20240000319277    15\n",
      "20210000267148    14\n",
      "20180000134604    14\n",
      "                  ..\n",
      "20160000300181     1\n",
      "20160000397706     1\n",
      "20170000003922     1\n",
      "20200000293330     1\n",
      "20230000186324     1\n",
      "Name: GO / SC Num, Length: 49280, dtype: int64\n"
     ]
    }
   ],
   "source": [
    "GO_SC_Num=UniqueValues(df,\"GO / SC Num\")\n",
    "print(GO_SC_Num.checking_unique())"
   ]
  },
  {
   "cell_type": "markdown",
   "metadata": {},
   "source": [
    "This column is relevant as it helps in tracking the validity or outcomes of complaints linked to specific Terry stops."
   ]
  },
  {
   "cell_type": "code",
   "execution_count": 12,
   "metadata": {},
   "outputs": [
    {
     "name": "stdout",
     "output_type": "stream",
     "text": [
      "19324329995    3\n",
      "32633045284    3\n",
      "19268585233    3\n",
      "13080077761    3\n",
      "55477887782    3\n",
      "              ..\n",
      "238381         1\n",
      "124682         1\n",
      "194981         1\n",
      "478096         1\n",
      "51297593765    1\n",
      "Name: Terry Stop ID, Length: 61354, dtype: int64\n"
     ]
    }
   ],
   "source": [
    "#checking \n",
    "Terry_Stop_ID=UniqueValues(df,\"Terry Stop ID\")\n",
    "print(Terry_Stop_ID.checking_unique())"
   ]
  },
  {
   "cell_type": "markdown",
   "metadata": {},
   "source": [
    "The terry stop ID uniquely identifies a terry stop."
   ]
  },
  {
   "cell_type": "code",
   "execution_count": 13,
   "metadata": {},
   "outputs": [
    {
     "name": "stdout",
     "output_type": "stream",
     "text": [
      "Field Contact               29979\n",
      "Offense Report              15643\n",
      "Arrest                      14900\n",
      "Referred for Prosecution      719\n",
      "Citation / Infraction         218\n",
      "Name: Stop Resolution, dtype: int64\n",
      "None\n"
     ]
    }
   ],
   "source": [
    "Stop_Resolution=UniqueValues(df,\"Stop Resolution\")\n",
    "print(print(Stop_Resolution.checking_unique()))"
   ]
  },
  {
   "cell_type": "markdown",
   "metadata": {},
   "source": [
    "Stop resolution-refers to the outcome or conclusion of a police stop or encounter, specifically how the interaction between an officer and a detained individual ends.This is a relevant column."
   ]
  },
  {
   "cell_type": "code",
   "execution_count": 14,
   "metadata": {},
   "outputs": [
    {
     "data": {
      "text/plain": [
       "Field Contact               0.487789\n",
       "Offense Report              0.254527\n",
       "Arrest                      0.242438\n",
       "Referred for Prosecution    0.011699\n",
       "Citation / Infraction       0.003547\n",
       "Name: Stop Resolution, dtype: float64"
      ]
     },
     "execution_count": 14,
     "metadata": {},
     "output_type": "execute_result"
    }
   ],
   "source": [
    "#categorising the stop resolution to arrest and no arrest\n",
    "# Replace \"Arrest\" with 1, and all other values with 0\n",
    "df[\"Stop Resolution\"].value_counts(normalize=True)"
   ]
  },
  {
   "cell_type": "markdown",
   "metadata": {},
   "source": [
    "The resulting stop resolution column contains the information whether a stop resolution led to an arrest or not"
   ]
  },
  {
   "cell_type": "code",
   "execution_count": 15,
   "metadata": {},
   "outputs": [
    {
     "name": "stdout",
     "output_type": "stream",
     "text": [
      "None                                    32208\n",
      "-                                       25334\n",
      "Lethal Cutting Instrument                1464\n",
      "Knife/Cutting/Stabbing Instrument        1374\n",
      "Handgun                                   399\n",
      "Blunt Object/Striking Implement           181\n",
      "Firearm                                   113\n",
      "Firearm Other                              99\n",
      "Other Firearm                              79\n",
      "Mace/Pepper Spray                          58\n",
      "Club, Blackjack, Brass Knuckles            49\n",
      "Taser/Stun Gun                             20\n",
      "None/Not Applicable                        20\n",
      "Firearm (unk type)                         15\n",
      "Fire/Incendiary Device                     13\n",
      "Rifle                                      11\n",
      "Club                                        9\n",
      "Shotgun                                     6\n",
      "Personal Weapons (hands, feet, etc.)        2\n",
      "Automatic Handgun                           2\n",
      "Brass Knuckles                              1\n",
      "Blackjack                                   1\n",
      "Poison                                      1\n",
      "Name: Weapon Type, dtype: int64\n"
     ]
    }
   ],
   "source": [
    "# weapon type column\n",
    "#checking for unique values in the column\n",
    "Weapon_Type=UniqueValues(df,\"Weapon Type\")\n",
    "print(Weapon_Type.checking_unique())"
   ]
  },
  {
   "cell_type": "code",
   "execution_count": 16,
   "metadata": {},
   "outputs": [],
   "source": [
    "#replacing - with unknown\n",
    "df[\"Weapon Type\"]=df[\"Weapon Type\"].replace(\"-\",\"weapon unknown\")\n",
    "df[\"Weapon Type\"]=df[\"Weapon Type\"].replace({\"None/Not Applicable\":\"None\",\"None\":\"None\"})\n",
    "# majority of the data fall under none and unknown.the other weapons can therefore be placed in one category called weapon_found\n",
    "# Create a list of weapon-related values\n",
    "weapon_types = [\n",
    "    \"Lethal Cutting Instrument\", \"Knife/Cutting/Stabbing Instrument\", \"Handgun\",\n",
    "    \"Blunt Object/Striking Implement\", \"Firearm\", \"Firearm Other\", \"Other Firearm\",\n",
    "    \"Mace/Pepper Spray\", \"Firearm (unk type)\", \"Club, Blackjack, Brass Knuckles\",\n",
    "    \"Taser/Stun Gun\", \"Shotgun\", \"Fire/Incendiary Device\", \"Club\",\n",
    "    \"Personal Weapons (hands, feet, etc.)\", \"Automatic Handgun\",\n",
    "    \"Brass Knuckles\", \"Blackjack\", \"Poison\",\"Rifle\"\n",
    "]\n",
    "\n",
    "# Replace matching values with \"weapon_found\"\n",
    "df[\"Weapon Type\"] = df[\"Weapon Type\"].apply(lambda x: \"weapon_found\" if x in weapon_types else x)\n"
   ]
  },
  {
   "cell_type": "code",
   "execution_count": 17,
   "metadata": {},
   "outputs": [
    {
     "data": {
      "text/plain": [
       "None              32228\n",
       "weapon unknown    25334\n",
       "weapon_found       3897\n",
       "Name: Weapon Type, dtype: int64"
      ]
     },
     "execution_count": 17,
     "metadata": {},
     "output_type": "execute_result"
    }
   ],
   "source": [
    "df[\"Weapon Type\"].value_counts()"
   ]
  },
  {
   "cell_type": "markdown",
   "metadata": {},
   "source": [
    "the resulting weapon type column conntains none ie no weapon found,unknown and weapon founds."
   ]
  },
  {
   "cell_type": "code",
   "execution_count": 18,
   "metadata": {},
   "outputs": [],
   "source": [
    "#converting to datetime format\n",
    "df[\"Reported Date\"] = pd.to_datetime(df[\"Reported Date\"], format=\"%Y/%m/%d\")\n",
    "# creating collumns for the year,month and day\n",
    "# Extract year, month, and day from the \"Reported Date\" column\n",
    "df[\"reported_Year\"] = df[\"Reported Date\"].dt.year\n",
    "df[\"reported_Month\"] = df[\"Reported Date\"].dt.month\n",
    "df[\"reported_Day\"] = df[\"Reported Date\"].dt.day\n",
    "#creating another column for day of week\n",
    "df[\"day_of_week\"]=df[\"Reported Date\"].dt.weekday"
   ]
  },
  {
   "cell_type": "code",
   "execution_count": 19,
   "metadata": {},
   "outputs": [
    {
     "data": {
      "text/plain": [
       "03:09:00.0000000    0.000846\n",
       "02:56:00.0000000    0.000846\n",
       "19:18:00.0000000    0.000830\n",
       "17:00:00.0000000    0.000830\n",
       "03:13:00.0000000    0.000814\n",
       "                      ...   \n",
       "00:45:11.0000000    0.000016\n",
       "23:01:39.0000000    0.000016\n",
       "14:37:15.0000000    0.000016\n",
       "14:14:33.0000000    0.000016\n",
       "05:10:04.0000000    0.000016\n",
       "Name: Reported Time, Length: 24282, dtype: float64"
      ]
     },
     "execution_count": 19,
     "metadata": {},
     "output_type": "execute_result"
    }
   ],
   "source": [
    "df[\"Reported Time\"].value_counts(normalize=True)"
   ]
  },
  {
   "cell_type": "code",
   "execution_count": 20,
   "metadata": {},
   "outputs": [],
   "source": [
    "#report time is of object time.we convert it to datetime format and create a new column contaning only the hour\n",
    "df[\"Reported Time\"]=pd.to_datetime(df[\"Reported Time\"], format=\"%H:%M:%S.%f\")\n",
    "df[\"Time\"]=df[\"Reported Time\"].dt.hour"
   ]
  },
  {
   "cell_type": "code",
   "execution_count": 21,
   "metadata": {},
   "outputs": [
    {
     "data": {
      "text/plain": [
       "-                                                    0.216388\n",
       "SUSPICIOUS STOP - OFFICER INITIATED ONVIEW           0.079256\n",
       "SUSPICIOUS PERSON, VEHICLE, OR INCIDENT              0.069445\n",
       "DISTURBANCE                                          0.050131\n",
       "ASLT - CRITICAL (NO SHOOTINGS)                       0.044339\n",
       "                                                       ...   \n",
       "HARBOR - WATER EMERGENCIES                           0.000016\n",
       "INJURED -  PERSON/INDUSTRIAL ACCIDENT                0.000016\n",
       "PUBLIC DISPLAY OF PORNOGRAPHY                        0.000016\n",
       "REQUEST TO WATCH                                     0.000016\n",
       "ALARM - PUBLIC TRANSPORTATION (CITY/STATE/COUNTY)    0.000016\n",
       "Name: Initial Call Type, Length: 182, dtype: float64"
      ]
     },
     "execution_count": 21,
     "metadata": {},
     "output_type": "execute_result"
    }
   ],
   "source": [
    "df[\"Initial Call Type\"].value_counts(normalize=True)"
   ]
  },
  {
   "cell_type": "code",
   "execution_count": 22,
   "metadata": {},
   "outputs": [
    {
     "data": {
      "text/plain": [
       "-                                                     13299\n",
       "--SUSPICIOUS CIRCUM. - SUSPICIOUS PERSON               5716\n",
       "--PROWLER - TRESPASS                                   4385\n",
       "--DISTURBANCE - OTHER                                  3665\n",
       "--ASSAULTS, OTHER                                      3063\n",
       "                                                      ...  \n",
       "PEDESTRIAN VIOLATIONS                                     1\n",
       "-DOWN TIME - OUT OF SERVICE                               1\n",
       "ASLT - DV CRITICAL                                        1\n",
       "URINATING, DEFECATING IN PUBLIC                           1\n",
       "--HELP THE OFFICER -ASSIST THE OFFICER (NON EMERG)        1\n",
       "Name: Final Call Type, Length: 201, dtype: int64"
      ]
     },
     "execution_count": 22,
     "metadata": {},
     "output_type": "execute_result"
    }
   ],
   "source": [
    "df[\"Final Call Type\"].value_counts()"
   ]
  },
  {
   "cell_type": "code",
   "execution_count": 23,
   "metadata": {},
   "outputs": [
    {
     "data": {
      "text/plain": [
       "911                              29022\n",
       "ONVIEW                           14439\n",
       "-                                13299\n",
       "TELEPHONE OTHER, NOT 911          4133\n",
       "ALARM CALL (NOT POLICE ALARM)      534\n",
       "TEXT MESSAGE                        30\n",
       "HISTORY CALL (RETRO)                 1\n",
       "SCHEDULED EVENT (RECURRING)          1\n",
       "Name: Call Type, dtype: int64"
      ]
     },
     "execution_count": 23,
     "metadata": {},
     "output_type": "execute_result"
    }
   ],
   "source": [
    "df[\"Call Type\"].value_counts()"
   ]
  },
  {
   "cell_type": "code",
   "execution_count": 24,
   "metadata": {},
   "outputs": [],
   "source": [
    "# replacing \"-\" with unknown\n",
    "df[\"Call Type\"]=df[\"Call Type\"].replace(\"-\",\"Call Type UNKNOWN\")"
   ]
  },
  {
   "cell_type": "code",
   "execution_count": 25,
   "metadata": {},
   "outputs": [
    {
     "data": {
      "text/plain": [
       "array(['Call Type UNKNOWN', 'TELEPHONE OTHER, NOT 911', '911', 'ONVIEW',\n",
       "       'ALARM CALL (NOT POLICE ALARM)', 'TEXT MESSAGE',\n",
       "       'HISTORY CALL (RETRO)', 'SCHEDULED EVENT (RECURRING)'],\n",
       "      dtype=object)"
      ]
     },
     "execution_count": 25,
     "metadata": {},
     "output_type": "execute_result"
    }
   ],
   "source": [
    "df[\"Call Type\"].unique()"
   ]
  },
  {
   "cell_type": "code",
   "execution_count": 26,
   "metadata": {},
   "outputs": [
    {
     "data": {
      "text/plain": [
       "911                              29022\n",
       "ONVIEW                           14439\n",
       "Call Type UNKNOWN                13299\n",
       "TELEPHONE OTHER, NOT 911          4133\n",
       "ALARM CALL (NOT POLICE ALARM)      534\n",
       "OTHER CALLS                         32\n",
       "Name: Call Type, dtype: int64"
      ]
     },
     "execution_count": 26,
     "metadata": {},
     "output_type": "execute_result"
    }
   ],
   "source": [
    "#combining text message,history call and scheduled to a single column other_calls\n",
    "other_calls=['TEXT MESSAGE','HISTORY CALL (RETRO)', 'SCHEDULED EVENT (RECURRING)']\n",
    "# Mapping the column\n",
    "df[\"Call Type\"] = df[\"Call Type\"].apply(lambda x: \"OTHER CALLS\" if x in other_calls else x)\n",
    "df[\"Call Type\"].value_counts()"
   ]
  },
  {
   "cell_type": "code",
   "execution_count": 27,
   "metadata": {},
   "outputs": [
    {
     "data": {
      "text/plain": [
       "TRAINING - FIELD TRAINING SQUAD                   0.107145\n",
       "WEST PCT 1ST W - DAVID - PLATOON 1                0.027758\n",
       "WEST PCT 3RD W - KING - PLATOON 1                 0.022470\n",
       "WEST PCT 1ST W - KING - PLATOON 1                 0.021266\n",
       "SOUTHWEST PCT 2ND W - FRANK - PLATOON 2           0.020811\n",
       "                                                    ...   \n",
       "SOUTH PCT 2ND W - ROBERT                          0.000016\n",
       "NORTH PCT 3RD W - LINCOLN                         0.000016\n",
       "TRAINING - ADVANCED UNIT ADMINISTRATION           0.000016\n",
       "COMM - INTERNET AND TELEPHONE REPORTING (ITRU)    0.000016\n",
       "SOUTHWEST PCT OPS - BURG/THEFT                    0.000016\n",
       "Name: Officer Squad, Length: 273, dtype: float64"
      ]
     },
     "execution_count": 27,
     "metadata": {},
     "output_type": "execute_result"
    }
   ],
   "source": [
    "df[\"Officer Squad\"].value_counts(normalize=True)"
   ]
  },
  {
   "cell_type": "markdown",
   "metadata": {},
   "source": [
    "Field training squad accounts for the largest percentage of terry stops at about 11%"
   ]
  },
  {
   "cell_type": "code",
   "execution_count": 28,
   "metadata": {},
   "outputs": [
    {
     "data": {
      "text/plain": [
       "0    0.890008\n",
       "1    0.109992\n",
       "Name: Arrest Flag, dtype: float64"
      ]
     },
     "execution_count": 28,
     "metadata": {},
     "output_type": "execute_result"
    }
   ],
   "source": [
    "# arrest flag\n",
    "df[\"Arrest Flag\"].value_counts(normalize=True)\n",
    "# assigning 0 to no arrest made and 1 for arrest\n",
    "df[\"Arrest Flag\"]=df[\"Arrest Flag\"].replace({\"N\":0,\"Y\":1})\n",
    "df[\"Arrest Flag\"].value_counts(normalize=True)"
   ]
  },
  {
   "cell_type": "markdown",
   "metadata": {},
   "source": [
    "only 10% of terry stops lead to arrest and about 90% do not lead to arrest."
   ]
  },
  {
   "cell_type": "code",
   "execution_count": 29,
   "metadata": {},
   "outputs": [
    {
     "data": {
      "text/plain": [
       "N    46246\n",
       "Y    14742\n",
       "-      471\n",
       "Name: Frisk Flag, dtype: int64"
      ]
     },
     "execution_count": 29,
     "metadata": {},
     "output_type": "execute_result"
    }
   ],
   "source": [
    "df[\"Frisk Flag\"].value_counts()"
   ]
  },
  {
   "cell_type": "code",
   "execution_count": 30,
   "metadata": {},
   "outputs": [
    {
     "data": {
      "text/plain": [
       "0    46246\n",
       "1    14742\n",
       "2      471\n",
       "Name: Frisk Flag, dtype: int64"
      ]
     },
     "execution_count": 30,
     "metadata": {},
     "output_type": "execute_result"
    }
   ],
   "source": [
    "# replacing \"-\" with \"UNKNOWN\" and assigning the values 0,1,2 \n",
    "df[\"Frisk Flag\"] = df[\"Frisk Flag\"].replace(\"-\",\"Frisk Flag UNKNOWN\")\n",
    "df[\"Frisk Flag\"] = df[\"Frisk Flag\"].replace({\"N\": 0, \"Y\": 1, \"Frisk Flag UNKNOWN\": 2}).astype(int)\n",
    "df[\"Frisk Flag\"].value_counts().head()"
   ]
  },
  {
   "cell_type": "code",
   "execution_count": 31,
   "metadata": {},
   "outputs": [
    {
     "data": {
      "text/plain": [
       "West         0.279292\n",
       "North        0.211230\n",
       "-            0.171317\n",
       "East         0.133992\n",
       "South        0.121577\n",
       "Southwest    0.077401\n",
       "Unknown      0.003222\n",
       "OOJ          0.001611\n",
       "FK ERROR     0.000358\n",
       "Name: Precinct, dtype: float64"
      ]
     },
     "execution_count": 31,
     "metadata": {},
     "output_type": "execute_result"
    }
   ],
   "source": [
    "#checking for precinct\n",
    "df[\"Precinct\"].value_counts(normalize=True)"
   ]
  },
  {
   "cell_type": "code",
   "execution_count": 32,
   "metadata": {},
   "outputs": [],
   "source": [
    "#replacing \"-\" with unknown\n",
    "df[\"Precinct\"]=df[\"Precinct\"].replace({\"-\":\"precinct Unknown\",\"Unknown\":\"precinct Unknown\"})"
   ]
  },
  {
   "cell_type": "markdown",
   "metadata": {},
   "source": [
    "west precinct contribute about 28% of the total stops followed by north,unknown ,east and south with FK ERROR being the least."
   ]
  },
  {
   "cell_type": "code",
   "execution_count": 33,
   "metadata": {},
   "outputs": [
    {
     "data": {
      "text/plain": [
       "Sector UNKNOWN    10678\n",
       "K                  5837\n",
       "M                  5259\n",
       "E                  4364\n",
       "N                  3646\n",
       "D                  3485\n",
       "F                  2857\n",
       "R                  2846\n",
       "B                  2785\n",
       "Q                  2580\n",
       "L                  2534\n",
       "O                  2371\n",
       "U                  2254\n",
       "S                  2254\n",
       "G                  2096\n",
       "W                  1897\n",
       "C                  1775\n",
       "J                  1761\n",
       "99                  129\n",
       "OOJ                  51\n",
       "Name: Sector, dtype: int64"
      ]
     },
     "execution_count": 33,
     "metadata": {},
     "output_type": "execute_result"
    }
   ],
   "source": [
    "df[\"Sector\"].value_counts(normalize=True)\n",
    "#replacing - with UNKNOWN\n",
    "df[\"Sector\"]=df[\"Sector\"].replace(\"-\",\"Sector UNKNOWN\")\n",
    "df[\"Sector\"].value_counts()"
   ]
  },
  {
   "cell_type": "markdown",
   "metadata": {},
   "source": [
    "Areas where the sector is not known accounts for the majority of terry stops followed at a distance by sector(K) and the subsequent sectors following each other closely.Sector OOJ registered the least terry stops conducted.\n"
   ]
  },
  {
   "cell_type": "code",
   "execution_count": 34,
   "metadata": {},
   "outputs": [
    {
     "data": {
      "text/plain": [
       "-      0.173644\n",
       "K3     0.055435\n",
       "M3     0.041947\n",
       "N3     0.029646\n",
       "E2     0.029467\n",
       "E1     0.023837\n",
       "D1     0.022340\n",
       "N2     0.022259\n",
       "M2     0.022194\n",
       "R2     0.021836\n",
       "K2     0.021657\n",
       "M1     0.021478\n",
       "D2     0.021120\n",
       "Q3     0.020013\n",
       "F2     0.019281\n",
       "K1     0.017882\n",
       "E3     0.017670\n",
       "B2     0.017312\n",
       "U2     0.016954\n",
       "B1     0.016873\n",
       "O1     0.015604\n",
       "L2     0.014286\n",
       "S2     0.014270\n",
       "F3     0.013668\n",
       "L1     0.013603\n",
       "F1     0.013537\n",
       "L3     0.013342\n",
       "R1     0.013261\n",
       "D3     0.013245\n",
       "W2     0.013147\n",
       "G2     0.012626\n",
       "U1     0.012382\n",
       "O3     0.012317\n",
       "Q2     0.012268\n",
       "S3     0.012171\n",
       "C1     0.011748\n",
       "G3     0.011618\n",
       "R3     0.011211\n",
       "B3     0.011194\n",
       "J3     0.010885\n",
       "O2     0.010658\n",
       "J1     0.010495\n",
       "S1     0.010234\n",
       "W1     0.010186\n",
       "C3     0.010039\n",
       "G1     0.009844\n",
       "Q1     0.009698\n",
       "W3     0.007550\n",
       "N1     0.007387\n",
       "U3     0.007338\n",
       "J2     0.007273\n",
       "C2     0.007110\n",
       "99     0.002115\n",
       "OOJ    0.000814\n",
       "S      0.000033\n",
       "Name: Beat, dtype: float64"
      ]
     },
     "execution_count": 34,
     "metadata": {},
     "output_type": "execute_result"
    }
   ],
   "source": [
    "df[\"Beat\"].value_counts(normalize=True)\n"
   ]
  },
  {
   "cell_type": "code",
   "execution_count": 35,
   "metadata": {},
   "outputs": [
    {
     "data": {
      "text/plain": [
       "Beat UNKNOWN    0.173644\n",
       "K3              0.055435\n",
       "M3              0.041947\n",
       "N3              0.029646\n",
       "E2              0.029467\n",
       "E1              0.023837\n",
       "D1              0.022340\n",
       "N2              0.022259\n",
       "M2              0.022194\n",
       "R2              0.021836\n",
       "K2              0.021657\n",
       "M1              0.021478\n",
       "D2              0.021120\n",
       "Q3              0.020013\n",
       "F2              0.019281\n",
       "K1              0.017882\n",
       "E3              0.017670\n",
       "B2              0.017312\n",
       "U2              0.016954\n",
       "B1              0.016873\n",
       "O1              0.015604\n",
       "L2              0.014286\n",
       "S2              0.014270\n",
       "F3              0.013668\n",
       "L1              0.013603\n",
       "F1              0.013537\n",
       "L3              0.013342\n",
       "R1              0.013261\n",
       "D3              0.013245\n",
       "W2              0.013147\n",
       "G2              0.012626\n",
       "U1              0.012382\n",
       "O3              0.012317\n",
       "Q2              0.012268\n",
       "S3              0.012171\n",
       "C1              0.011748\n",
       "G3              0.011618\n",
       "R3              0.011211\n",
       "B3              0.011194\n",
       "J3              0.010885\n",
       "O2              0.010658\n",
       "J1              0.010495\n",
       "S1              0.010234\n",
       "W1              0.010186\n",
       "C3              0.010039\n",
       "G1              0.009844\n",
       "Q1              0.009698\n",
       "W3              0.007550\n",
       "N1              0.007387\n",
       "U3              0.007338\n",
       "J2              0.007273\n",
       "C2              0.007110\n",
       "99              0.002115\n",
       "OOJ             0.000814\n",
       "S               0.000033\n",
       "Name: Beat, dtype: float64"
      ]
     },
     "execution_count": 35,
     "metadata": {},
     "output_type": "execute_result"
    }
   ],
   "source": [
    "df[\"Beat\"]=df[\"Beat\"].replace(\"-\",\"Beat UNKNOWN\")\n",
    "df[\"Beat\"].value_counts(normalize=True)"
   ]
  },
  {
   "cell_type": "code",
   "execution_count": 36,
   "metadata": {},
   "outputs": [
    {
     "name": "stdout",
     "output_type": "stream",
     "text": [
      "<class 'pandas.core.frame.DataFrame'>\n",
      "Int64Index: 61459 entries, 0 to 62019\n",
      "Data columns (total 28 columns):\n",
      " #   Column                    Non-Null Count  Dtype              \n",
      "---  ------                    --------------  -----              \n",
      " 0   Subject Age Group         61459 non-null  object             \n",
      " 1   Subject ID                61459 non-null  int64              \n",
      " 2   GO / SC Num               61459 non-null  int64              \n",
      " 3   Terry Stop ID             61459 non-null  int64              \n",
      " 4   Stop Resolution           61459 non-null  object             \n",
      " 5   Weapon Type               61459 non-null  object             \n",
      " 6   Officer ID                61459 non-null  object             \n",
      " 7   Officer YOB               61459 non-null  int64              \n",
      " 8   Officer Gender            61459 non-null  object             \n",
      " 9   Officer Race              61459 non-null  object             \n",
      " 10  Subject Perceived Race    61459 non-null  object             \n",
      " 11  Subject Perceived Gender  61459 non-null  object             \n",
      " 12  Reported Date             61459 non-null  datetime64[ns, UTC]\n",
      " 13  Reported Time             61459 non-null  datetime64[ns]     \n",
      " 14  Initial Call Type         61459 non-null  object             \n",
      " 15  Final Call Type           61459 non-null  object             \n",
      " 16  Call Type                 61459 non-null  object             \n",
      " 17  Officer Squad             61459 non-null  object             \n",
      " 18  Arrest Flag               61459 non-null  int64              \n",
      " 19  Frisk Flag                61459 non-null  int64              \n",
      " 20  Precinct                  61459 non-null  object             \n",
      " 21  Sector                    61459 non-null  object             \n",
      " 22  Beat                      61459 non-null  object             \n",
      " 23  reported_Year             61459 non-null  int64              \n",
      " 24  reported_Month            61459 non-null  int64              \n",
      " 25  reported_Day              61459 non-null  int64              \n",
      " 26  day_of_week               61459 non-null  int64              \n",
      " 27  Time                      61459 non-null  int64              \n",
      "dtypes: datetime64[ns, UTC](1), datetime64[ns](1), int64(11), object(15)\n",
      "memory usage: 13.6+ MB\n"
     ]
    }
   ],
   "source": [
    "df.info()"
   ]
  },
  {
   "cell_type": "code",
   "execution_count": 37,
   "metadata": {},
   "outputs": [],
   "source": [
    "#columns to drop:\"Subject ID\",\"Terry Stop ID\",\"Officer ID\",\"Officer Gender\",\"Officer Race\"\n",
    "df=df.drop(columns=[\"Subject ID\",\"Subject Perceived Race\",\"Subject Perceived Gender\",\"Terry Stop ID\",\"Officer ID\",\"Officer Gender\",\"Officer Race\",\"Reported Time\",\"Reported Date\",\"reported_Day\"])"
   ]
  },
  {
   "cell_type": "code",
   "execution_count": 38,
   "metadata": {},
   "outputs": [
    {
     "name": "stdout",
     "output_type": "stream",
     "text": [
      "<class 'pandas.core.frame.DataFrame'>\n",
      "Int64Index: 61459 entries, 0 to 62019\n",
      "Data columns (total 18 columns):\n",
      " #   Column             Non-Null Count  Dtype \n",
      "---  ------             --------------  ----- \n",
      " 0   Subject Age Group  61459 non-null  object\n",
      " 1   GO / SC Num        61459 non-null  int64 \n",
      " 2   Stop Resolution    61459 non-null  object\n",
      " 3   Weapon Type        61459 non-null  object\n",
      " 4   Officer YOB        61459 non-null  int64 \n",
      " 5   Initial Call Type  61459 non-null  object\n",
      " 6   Final Call Type    61459 non-null  object\n",
      " 7   Call Type          61459 non-null  object\n",
      " 8   Officer Squad      61459 non-null  object\n",
      " 9   Arrest Flag        61459 non-null  int64 \n",
      " 10  Frisk Flag         61459 non-null  int64 \n",
      " 11  Precinct           61459 non-null  object\n",
      " 12  Sector             61459 non-null  object\n",
      " 13  Beat               61459 non-null  object\n",
      " 14  reported_Year      61459 non-null  int64 \n",
      " 15  reported_Month     61459 non-null  int64 \n",
      " 16  day_of_week        61459 non-null  int64 \n",
      " 17  Time               61459 non-null  int64 \n",
      "dtypes: int64(8), object(10)\n",
      "memory usage: 8.9+ MB\n"
     ]
    }
   ],
   "source": [
    "df.info()"
   ]
  },
  {
   "cell_type": "markdown",
   "metadata": {},
   "source": [
    "The final dataframe contains 8 columns with integer values and 10 of type object.this results to a total of 20 columns.There are no missing data or duplicates in the final dataset.This data is going to be used for analysis."
   ]
  },
  {
   "cell_type": "code",
   "execution_count": 40,
   "metadata": {},
   "outputs": [],
   "source": [
    "df.to_csv(\"EDA_data.csv\")"
   ]
  }
 ],
 "metadata": {
  "kernelspec": {
   "display_name": "Python 3",
   "language": "python",
   "name": "python3"
  },
  "language_info": {
   "codemirror_mode": {
    "name": "ipython",
    "version": 3
   },
   "file_extension": ".py",
   "mimetype": "text/x-python",
   "name": "python",
   "nbconvert_exporter": "python",
   "pygments_lexer": "ipython3",
   "version": "3.7.6"
  }
 },
 "nbformat": 4,
 "nbformat_minor": 4
}
