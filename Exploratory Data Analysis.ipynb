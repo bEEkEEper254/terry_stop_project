{
 "cells": [
  {
   "cell_type": "markdown",
   "metadata": {},
   "source": [
    "# EXPLORATORY DATA ANALYSIS \n",
    "### Purpose \n",
    "1.To determine the relationship between the dependent and independent variables."
   ]
  },
  {
   "cell_type": "code",
   "execution_count": 1,
   "metadata": {},
   "outputs": [],
   "source": [
    "#importing the relevant libraries\n",
    "import pandas as pd\n",
    "import matplotlib.pyplot as plt\n",
    "import seaborn as sns\n",
    "%matplotlib inline\n",
    "import warnings\n",
    "from pandasql import sqldf\n",
    "from tabulate import tabulate\n",
    "from sklearn.linear_model import LogisticRegression\n",
    "warnings.filterwarnings(\"ignore\")"
   ]
  },
  {
   "cell_type": "markdown",
   "metadata": {},
   "source": [
    "During the analysis it was noticed that stop_resolution and arrest flag had similar values.One of this is to be the dependent variable.let us look at their correlation. "
   ]
  },
  {
   "cell_type": "code",
   "execution_count": 2,
   "metadata": {},
   "outputs": [],
   "source": [
    "#loading the data\n",
    "df=pd.read_csv(\"EDA_data.csv\")"
   ]
  },
  {
   "cell_type": "code",
   "execution_count": 3,
   "metadata": {},
   "outputs": [
    {
     "name": "stdout",
     "output_type": "stream",
     "text": [
      "<class 'pandas.core.frame.DataFrame'>\n",
      "RangeIndex: 61459 entries, 0 to 61458\n",
      "Data columns (total 19 columns):\n",
      " #   Column             Non-Null Count  Dtype \n",
      "---  ------             --------------  ----- \n",
      " 0   Unnamed: 0         61459 non-null  int64 \n",
      " 1   Subject Age Group  61459 non-null  object\n",
      " 2   GO / SC Num        61459 non-null  int64 \n",
      " 3   Stop Resolution    61459 non-null  object\n",
      " 4   Weapon Type        61459 non-null  object\n",
      " 5   Officer YOB        61459 non-null  int64 \n",
      " 6   Initial Call Type  61459 non-null  object\n",
      " 7   Final Call Type    61459 non-null  object\n",
      " 8   Call Type          61459 non-null  object\n",
      " 9   Officer Squad      61459 non-null  object\n",
      " 10  Arrest Flag        61459 non-null  int64 \n",
      " 11  Frisk Flag         61459 non-null  int64 \n",
      " 12  Precinct           61459 non-null  object\n",
      " 13  Sector             61459 non-null  object\n",
      " 14  Beat               61459 non-null  object\n",
      " 15  reported_Year      61459 non-null  int64 \n",
      " 16  reported_Month     61459 non-null  int64 \n",
      " 17  day_of_week        61459 non-null  int64 \n",
      " 18  Time               61459 non-null  int64 \n",
      "dtypes: int64(9), object(10)\n",
      "memory usage: 8.9+ MB\n"
     ]
    }
   ],
   "source": [
    "df.info()"
   ]
  },
  {
   "cell_type": "code",
   "execution_count": 4,
   "metadata": {},
   "outputs": [],
   "source": [
    "#dropping the collumn Unnamed: 0\n",
    "df=df.drop(columns=[\"Unnamed: 0\"])"
   ]
  },
  {
   "cell_type": "markdown",
   "metadata": {},
   "source": [
    "### 1.What is the distribution of terry stops over the years"
   ]
  },
  {
   "cell_type": "code",
   "execution_count": 5,
   "metadata": {},
   "outputs": [],
   "source": [
    "#Create a lambda function to pass locals or globals to pandasql\n",
    "pysqldf = lambda q:sqldf(q, globals())"
   ]
  },
  {
   "cell_type": "code",
   "execution_count": 6,
   "metadata": {},
   "outputs": [
    {
     "data": {
      "text/html": [
       "<div>\n",
       "<style scoped>\n",
       "    .dataframe tbody tr th:only-of-type {\n",
       "        vertical-align: middle;\n",
       "    }\n",
       "\n",
       "    .dataframe tbody tr th {\n",
       "        vertical-align: top;\n",
       "    }\n",
       "\n",
       "    .dataframe thead th {\n",
       "        text-align: right;\n",
       "    }\n",
       "</style>\n",
       "<table border=\"1\" class=\"dataframe\">\n",
       "  <thead>\n",
       "    <tr style=\"text-align: right;\">\n",
       "      <th></th>\n",
       "      <th>reported_Year</th>\n",
       "      <th>terry_stops</th>\n",
       "    </tr>\n",
       "  </thead>\n",
       "  <tbody>\n",
       "    <tr>\n",
       "      <th>0</th>\n",
       "      <td>2015</td>\n",
       "      <td>6746</td>\n",
       "    </tr>\n",
       "    <tr>\n",
       "      <th>1</th>\n",
       "      <td>2016</td>\n",
       "      <td>7704</td>\n",
       "    </tr>\n",
       "    <tr>\n",
       "      <th>2</th>\n",
       "      <td>2017</td>\n",
       "      <td>7469</td>\n",
       "    </tr>\n",
       "    <tr>\n",
       "      <th>3</th>\n",
       "      <td>2018</td>\n",
       "      <td>8851</td>\n",
       "    </tr>\n",
       "    <tr>\n",
       "      <th>4</th>\n",
       "      <td>2019</td>\n",
       "      <td>8190</td>\n",
       "    </tr>\n",
       "    <tr>\n",
       "      <th>5</th>\n",
       "      <td>2020</td>\n",
       "      <td>6128</td>\n",
       "    </tr>\n",
       "    <tr>\n",
       "      <th>6</th>\n",
       "      <td>2021</td>\n",
       "      <td>4228</td>\n",
       "    </tr>\n",
       "    <tr>\n",
       "      <th>7</th>\n",
       "      <td>2022</td>\n",
       "      <td>4626</td>\n",
       "    </tr>\n",
       "    <tr>\n",
       "      <th>8</th>\n",
       "      <td>2023</td>\n",
       "      <td>4049</td>\n",
       "    </tr>\n",
       "    <tr>\n",
       "      <th>9</th>\n",
       "      <td>2024</td>\n",
       "      <td>3468</td>\n",
       "    </tr>\n",
       "  </tbody>\n",
       "</table>\n",
       "</div>"
      ],
      "text/plain": [
       "   reported_Year  terry_stops\n",
       "0           2015         6746\n",
       "1           2016         7704\n",
       "2           2017         7469\n",
       "3           2018         8851\n",
       "4           2019         8190\n",
       "5           2020         6128\n",
       "6           2021         4228\n",
       "7           2022         4626\n",
       "8           2023         4049\n",
       "9           2024         3468"
      ]
     },
     "execution_count": 6,
     "metadata": {},
     "output_type": "execute_result"
    }
   ],
   "source": [
    "q1=\"\"\"\n",
    "SELECT reported_Year,COUNT(\"Arrest Flag\")as \"terry_stops\"\n",
    "FROM df\n",
    "GROUP BY reported_Year\n",
    "\"\"\"\n",
    "year_vs_arrest=pysqldf(q1)\n",
    "year_vs_arrest"
   ]
  },
  {
   "cell_type": "code",
   "execution_count": 7,
   "metadata": {},
   "outputs": [
    {
     "data": {
      "image/png": "[encoded data removed]",
      "text/plain": [
       "<Figure size 720x360 with 1 Axes>"
      ]
     },
     "metadata": {
      "needs_background": "light"
     },
     "output_type": "display_data"
    }
   ],
   "source": [
    "plt.figure(figsize=(10, 5))\n",
    "plt.plot(year_vs_arrest[\"reported_Year\"], year_vs_arrest[\"terry_stops\"], color='skyblue')\n",
    "plt.xlabel('Year', fontsize=12)\n",
    "plt.ylabel('Number of stops', fontsize=12)\n",
    "plt.title('Number of stops per Year (2015-2024)', fontsize=14)\n",
    "plt.xticks(year_vs_arrest[\"reported_Year\"], rotation=45)\n",
    "plt.tight_layout()\n",
    "plt.show()\n"
   ]
  },
  {
   "cell_type": "markdown",
   "metadata": {},
   "source": [
    "### observation\n",
    "The data shows that the number of terry stops steadily increased from the year 2015 with the peak number of terry stops being in the year 2018.There after,the number of terry stops decreased with the record lowest being in 2024 with only 3468 terry stops."
   ]
  },
  {
   "cell_type": "markdown",
   "metadata": {},
   "source": [
    "### 2. How many terry stops led to an arrest?"
   ]
  },
  {
   "cell_type": "code",
   "execution_count": 8,
   "metadata": {},
   "outputs": [
    {
     "data": {
      "text/html": [
       "<div>\n",
       "<style scoped>\n",
       "    .dataframe tbody tr th:only-of-type {\n",
       "        vertical-align: middle;\n",
       "    }\n",
       "\n",
       "    .dataframe tbody tr th {\n",
       "        vertical-align: top;\n",
       "    }\n",
       "\n",
       "    .dataframe thead th {\n",
       "        text-align: right;\n",
       "    }\n",
       "</style>\n",
       "<table border=\"1\" class=\"dataframe\">\n",
       "  <thead>\n",
       "    <tr style=\"text-align: right;\">\n",
       "      <th></th>\n",
       "      <th>Arrest Flag</th>\n",
       "      <th>outcome</th>\n",
       "    </tr>\n",
       "  </thead>\n",
       "  <tbody>\n",
       "    <tr>\n",
       "      <th>0</th>\n",
       "      <td>0</td>\n",
       "      <td>54699</td>\n",
       "    </tr>\n",
       "    <tr>\n",
       "      <th>1</th>\n",
       "      <td>1</td>\n",
       "      <td>6760</td>\n",
       "    </tr>\n",
       "  </tbody>\n",
       "</table>\n",
       "</div>"
      ],
      "text/plain": [
       "   Arrest Flag  outcome\n",
       "0            0    54699\n",
       "1            1     6760"
      ]
     },
     "execution_count": 8,
     "metadata": {},
     "output_type": "execute_result"
    }
   ],
   "source": [
    "q2=\"\"\"\n",
    "SELECT \"Arrest Flag\" ,COUNT(\"Arrest Flag\") AS \"outcome\"\n",
    "FROM df\n",
    "GROUP BY \"Arrest Flag\"\n",
    "\"\"\"\n",
    "arrest=pysqldf(q2)\n",
    "arrest"
   ]
  },
  {
   "cell_type": "code",
   "execution_count": 9,
   "metadata": {},
   "outputs": [
    {
     "data": {
      "image/png": "[encoded data removed]",
      "text/plain": [
       "<Figure size 720x360 with 1 Axes>"
      ]
     },
     "metadata": {
      "needs_background": "light"
     },
     "output_type": "display_data"
    }
   ],
   "source": [
    "plt.figure(figsize=(10, 5))\n",
    "outcomes = [\"No Arrest\", \"Arrest\"]# Replacing arrest[\"outcome\"] and arrest[\"Arrest Flag\"] with the correct mappings\n",
    "counts = [54699, 6760]\n",
    "plt.bar(outcomes, counts, color=['lightcoral', 'lightgreen'], edgecolor='black')\n",
    "plt.xlabel('Outcome', fontsize=12)\n",
    "plt.ylabel('Count', fontsize=12)\n",
    "plt.title('Distribution of Outcomes: No Arrest vs Arrest', fontsize=14)\n",
    "plt.tight_layout()  \n",
    "plt.show()"
   ]
  },
  {
   "cell_type": "markdown",
   "metadata": {},
   "source": [
    "### Observation \n",
    "It is observed that the arrests made were 6760 accounting for only 10% of the total observations.This begs the question should terry stops be stopped?"
   ]
  },
  {
   "cell_type": "markdown",
   "metadata": {},
   "source": [
    "### 3.what arrests were made based on the call type?"
   ]
  },
  {
   "cell_type": "code",
   "execution_count": 10,
   "metadata": {},
   "outputs": [
    {
     "name": "stdout",
     "output_type": "stream",
     "text": [
      "                       Call Type  Arrest Count\n",
      "0                            911          4506\n",
      "1                         ONVIEW          1421\n",
      "2       TELEPHONE OTHER, NOT 911           502\n",
      "3              Call Type UNKNOWN           234\n",
      "4  ALARM CALL (NOT POLICE ALARM)            88\n",
      "5                    OTHER CALLS             9\n"
     ]
    }
   ],
   "source": [
    "q3 = \"\"\"\n",
    "SELECT \"Call Type\", COUNT(*) AS \"Arrest Count\"\n",
    "FROM df\n",
    "WHERE \"Arrest Flag\" = 1\n",
    "GROUP BY \"Call Type\"\n",
    "ORDER BY \"Arrest Count\" DESC\n",
    "\"\"\"\n",
    "arrest_call = pysqldf(q3)\n",
    "print(arrest_call)\n"
   ]
  },
  {
   "cell_type": "markdown",
   "metadata": {},
   "source": [
    "911 calls topped the list with 4506 arrests followed by onview at 1421 ,telephone other(not911) at 502,unknown at 234 and alarm call and arrests made based on alarm call and other types of calls cumulated to 97 "
   ]
  },
  {
   "cell_type": "markdown",
   "metadata": {},
   "source": [
    "### 4.What is the distribution of arrests based on the the subjects age?"
   ]
  },
  {
   "cell_type": "code",
   "execution_count": 11,
   "metadata": {},
   "outputs": [
    {
     "name": "stdout",
     "output_type": "stream",
     "text": [
      "  Subject Age Group  Arrest Count  Arrest Percentage\n",
      "0            1 - 17           137           2.026627\n",
      "1           18 - 25          1108          16.390533\n",
      "2           26 - 35          2443          36.139053\n",
      "3           36 - 45          1797          26.582840\n",
      "4           46 - 55           857          12.677515\n",
      "5      56 and Above           377           5.576923\n",
      "6       Age Unknown            41           0.606509\n"
     ]
    }
   ],
   "source": [
    "q4 = \"\"\"\n",
    "SELECT \"Subject Age Group\", CAST(COUNT(\"Arrest Flag\") AS INTEGER) AS \"Arrest Count\"\n",
    "FROM df\n",
    "WHERE \"Arrest Flag\" = 1\n",
    "GROUP BY \"Subject Age Group\"\n",
    "ORDER BY \"Subject Age Group\" \n",
    "\"\"\"\n",
    "arrest_age=pysqldf(q4)\n",
    "total_arrests = arrest_age[\"Arrest Count\"].sum()\n",
    "# Adding a new column for the percentage\n",
    "arrest_age[\"Arrest Percentage\"] = (arrest_age[\"Arrest Count\"] / total_arrests) * 100\n",
    "print(arrest_age)\n"
   ]
  },
  {
   "cell_type": "code",
   "execution_count": 12,
   "metadata": {},
   "outputs": [
    {
     "data": {
      "image/png": "[encoded data removed]",
      "text/plain": [
       "<Figure size 720x432 with 2 Axes>"
      ]
     },
     "metadata": {
      "needs_background": "light"
     },
     "output_type": "display_data"
    }
   ],
   "source": [
    "fig, ax1 = plt.subplots(figsize=(10, 6))\n",
    "\n",
    "sns.barplot(x=\"Subject Age Group\", y=\"Arrest Count\", data=arrest_age, ax=ax1, color=\"b\", alpha=0.6)\n",
    "ax2 = ax1.twinx()\n",
    "sns.lineplot(x=\"Subject Age Group\", y=\"Arrest Percentage\", data=arrest_age, ax=ax2, color=\"r\", marker=\"o\")\n",
    "ax1.set_xlabel(\"Subject Age Group\")\n",
    "ax1.set_ylabel(\"Arrest Count\", color=\"b\")\n",
    "ax2.set_ylabel(\"Arrest Percentage (%)\", color=\"r\")\n",
    "plt.title(\"Arrests by Subject Age Group\")\n",
    "plt.show()\n"
   ]
  },
  {
   "cell_type": "markdown",
   "metadata": {},
   "source": [
    "ages in the range of 26-35 contibuted 36% of the arrests made followed by ages between 36 and 45 which contributed about 27%.Age group 1-17 accounted for the least arrests followed by ages 46-55 at 5.5%"
   ]
  },
  {
   "cell_type": "code",
   "execution_count": 13,
   "metadata": {},
   "outputs": [
    {
     "data": {
      "text/html": [
       "<div>\n",
       "<style scoped>\n",
       "    .dataframe tbody tr th:only-of-type {\n",
       "        vertical-align: middle;\n",
       "    }\n",
       "\n",
       "    .dataframe tbody tr th {\n",
       "        vertical-align: top;\n",
       "    }\n",
       "\n",
       "    .dataframe thead th {\n",
       "        text-align: right;\n",
       "    }\n",
       "</style>\n",
       "<table border=\"1\" class=\"dataframe\">\n",
       "  <thead>\n",
       "    <tr style=\"text-align: right;\">\n",
       "      <th></th>\n",
       "      <th>Precinct</th>\n",
       "      <th>COUNT(\"Precinct\")</th>\n",
       "      <th>Beat</th>\n",
       "    </tr>\n",
       "  </thead>\n",
       "  <tbody>\n",
       "    <tr>\n",
       "      <th>0</th>\n",
       "      <td>East</td>\n",
       "      <td>1021</td>\n",
       "      <td>G3</td>\n",
       "    </tr>\n",
       "    <tr>\n",
       "      <th>1</th>\n",
       "      <td>FK ERROR</td>\n",
       "      <td>4</td>\n",
       "      <td>99</td>\n",
       "    </tr>\n",
       "    <tr>\n",
       "      <th>2</th>\n",
       "      <td>North</td>\n",
       "      <td>1137</td>\n",
       "      <td>N2</td>\n",
       "    </tr>\n",
       "    <tr>\n",
       "      <th>3</th>\n",
       "      <td>OOJ</td>\n",
       "      <td>8</td>\n",
       "      <td>OOJ</td>\n",
       "    </tr>\n",
       "    <tr>\n",
       "      <th>4</th>\n",
       "      <td>South</td>\n",
       "      <td>967</td>\n",
       "      <td>R2</td>\n",
       "    </tr>\n",
       "    <tr>\n",
       "      <th>5</th>\n",
       "      <td>Southwest</td>\n",
       "      <td>658</td>\n",
       "      <td>F1</td>\n",
       "    </tr>\n",
       "    <tr>\n",
       "      <th>6</th>\n",
       "      <td>West</td>\n",
       "      <td>2606</td>\n",
       "      <td>M3</td>\n",
       "    </tr>\n",
       "    <tr>\n",
       "      <th>7</th>\n",
       "      <td>precinct Unknown</td>\n",
       "      <td>359</td>\n",
       "      <td>Beat UNKNOWN</td>\n",
       "    </tr>\n",
       "  </tbody>\n",
       "</table>\n",
       "</div>"
      ],
      "text/plain": [
       "           Precinct  COUNT(\"Precinct\")          Beat\n",
       "0              East               1021            G3\n",
       "1          FK ERROR                  4            99\n",
       "2             North               1137            N2\n",
       "3               OOJ                  8           OOJ\n",
       "4             South                967            R2\n",
       "5         Southwest                658            F1\n",
       "6              West               2606            M3\n",
       "7  precinct Unknown                359  Beat UNKNOWN"
      ]
     },
     "execution_count": 13,
     "metadata": {},
     "output_type": "execute_result"
    }
   ],
   "source": [
    "q5 = \"\"\"\n",
    "SELECT \"Precinct\",COUNT(\"Precinct\"),\"Beat\"\n",
    "FROM df\n",
    "WHERE \"Arrest Flag\" = 1\n",
    "GROUP BY \"Precinct\"\n",
    "\"\"\"\n",
    "precinct_beat = pysqldf(q5)\n",
    "precinct_beat"
   ]
  },
  {
   "cell_type": "markdown",
   "metadata": {},
   "source": [
    "West M3 beat accounted for the most of arrests with 2606 arrests made.this was followed by the north precinct which had 1137 arrests  "
   ]
  },
  {
   "cell_type": "markdown",
   "metadata": {},
   "source": [
    "### 5.what is the relationship between officer experience and the arrest flag\n"
   ]
  },
  {
   "cell_type": "code",
   "execution_count": 14,
   "metadata": {},
   "outputs": [
    {
     "data": {
      "text/html": [
       "<div>\n",
       "<style scoped>\n",
       "    .dataframe tbody tr th:only-of-type {\n",
       "        vertical-align: middle;\n",
       "    }\n",
       "\n",
       "    .dataframe tbody tr th {\n",
       "        vertical-align: top;\n",
       "    }\n",
       "\n",
       "    .dataframe thead th {\n",
       "        text-align: right;\n",
       "    }\n",
       "</style>\n",
       "<table border=\"1\" class=\"dataframe\">\n",
       "  <thead>\n",
       "    <tr style=\"text-align: right;\">\n",
       "      <th></th>\n",
       "      <th>Officer YOB</th>\n",
       "      <th>arrest_count</th>\n",
       "      <th>Officer probable age</th>\n",
       "    </tr>\n",
       "  </thead>\n",
       "  <tbody>\n",
       "    <tr>\n",
       "      <th>0</th>\n",
       "      <td>1995</td>\n",
       "      <td>565</td>\n",
       "      <td>29</td>\n",
       "    </tr>\n",
       "    <tr>\n",
       "      <th>1</th>\n",
       "      <td>1989</td>\n",
       "      <td>479</td>\n",
       "      <td>35</td>\n",
       "    </tr>\n",
       "    <tr>\n",
       "      <th>2</th>\n",
       "      <td>1993</td>\n",
       "      <td>478</td>\n",
       "      <td>31</td>\n",
       "    </tr>\n",
       "    <tr>\n",
       "      <th>3</th>\n",
       "      <td>1992</td>\n",
       "      <td>455</td>\n",
       "      <td>32</td>\n",
       "    </tr>\n",
       "    <tr>\n",
       "      <th>4</th>\n",
       "      <td>1991</td>\n",
       "      <td>455</td>\n",
       "      <td>33</td>\n",
       "    </tr>\n",
       "    <tr>\n",
       "      <th>5</th>\n",
       "      <td>1987</td>\n",
       "      <td>451</td>\n",
       "      <td>37</td>\n",
       "    </tr>\n",
       "    <tr>\n",
       "      <th>6</th>\n",
       "      <td>1986</td>\n",
       "      <td>426</td>\n",
       "      <td>38</td>\n",
       "    </tr>\n",
       "    <tr>\n",
       "      <th>7</th>\n",
       "      <td>1990</td>\n",
       "      <td>416</td>\n",
       "      <td>34</td>\n",
       "    </tr>\n",
       "    <tr>\n",
       "      <th>8</th>\n",
       "      <td>1994</td>\n",
       "      <td>319</td>\n",
       "      <td>30</td>\n",
       "    </tr>\n",
       "    <tr>\n",
       "      <th>9</th>\n",
       "      <td>1988</td>\n",
       "      <td>277</td>\n",
       "      <td>36</td>\n",
       "    </tr>\n",
       "  </tbody>\n",
       "</table>\n",
       "</div>"
      ],
      "text/plain": [
       "   Officer YOB  arrest_count  Officer probable age\n",
       "0         1995           565                    29\n",
       "1         1989           479                    35\n",
       "2         1993           478                    31\n",
       "3         1992           455                    32\n",
       "4         1991           455                    33\n",
       "5         1987           451                    37\n",
       "6         1986           426                    38\n",
       "7         1990           416                    34\n",
       "8         1994           319                    30\n",
       "9         1988           277                    36"
      ]
     },
     "execution_count": 14,
     "metadata": {},
     "output_type": "execute_result"
    }
   ],
   "source": [
    "q6 = \"\"\"\n",
    "SELECT \"Officer YOB\", \n",
    "       CAST(COUNT(\"Arrest Flag\") AS INTEGER) AS arrest_count,ABS(\"Officer YOB\"-2024)AS \"Officer probable age\"\n",
    "FROM df\n",
    "WHERE \"Arrest Flag\" == 1 AND \"Officer probable age\"<=53\n",
    "GROUP BY \"Officer YOB\"\n",
    "ORDER BY arrest_count DESC\n",
    "LIMIT 10\n",
    "\"\"\"\n",
    "officer_experience = pysqldf(q6)\n",
    "officer_experience\n"
   ]
  },
  {
   "cell_type": "markdown",
   "metadata": {},
   "source": [
    "For the above analysis we assume that the retirement age in seattle is 53 years therefore limiting our analysis to only officers who are below the age of 53.Most arrests were made by officers between the ages of 29 and 38.Assuming an officer joinsthe force at the age of 18 then we can conclude that officers with more than 10 years of experience made correct judgemennts based on terry traffic stops."
   ]
  },
  {
   "cell_type": "markdown",
   "metadata": {},
   "source": [
    "### Officers who initiated a terry stop but never made an arrest"
   ]
  },
  {
   "cell_type": "code",
   "execution_count": 15,
   "metadata": {},
   "outputs": [
    {
     "data": {
      "text/html": [
       "<div>\n",
       "<style scoped>\n",
       "    .dataframe tbody tr th:only-of-type {\n",
       "        vertical-align: middle;\n",
       "    }\n",
       "\n",
       "    .dataframe tbody tr th {\n",
       "        vertical-align: top;\n",
       "    }\n",
       "\n",
       "    .dataframe thead th {\n",
       "        text-align: right;\n",
       "    }\n",
       "</style>\n",
       "<table border=\"1\" class=\"dataframe\">\n",
       "  <thead>\n",
       "    <tr style=\"text-align: right;\">\n",
       "      <th></th>\n",
       "      <th>Officer YOB</th>\n",
       "      <th>arrest_count</th>\n",
       "      <th>Officer probable age</th>\n",
       "    </tr>\n",
       "  </thead>\n",
       "  <tbody>\n",
       "    <tr>\n",
       "      <th>0</th>\n",
       "      <td>1986</td>\n",
       "      <td>3596</td>\n",
       "      <td>38</td>\n",
       "    </tr>\n",
       "    <tr>\n",
       "      <th>1</th>\n",
       "      <td>1987</td>\n",
       "      <td>3353</td>\n",
       "      <td>37</td>\n",
       "    </tr>\n",
       "    <tr>\n",
       "      <th>2</th>\n",
       "      <td>1991</td>\n",
       "      <td>2971</td>\n",
       "      <td>33</td>\n",
       "    </tr>\n",
       "    <tr>\n",
       "      <th>3</th>\n",
       "      <td>1984</td>\n",
       "      <td>2949</td>\n",
       "      <td>40</td>\n",
       "    </tr>\n",
       "    <tr>\n",
       "      <th>4</th>\n",
       "      <td>1992</td>\n",
       "      <td>2892</td>\n",
       "      <td>32</td>\n",
       "    </tr>\n",
       "    <tr>\n",
       "      <th>5</th>\n",
       "      <td>1990</td>\n",
       "      <td>2733</td>\n",
       "      <td>34</td>\n",
       "    </tr>\n",
       "    <tr>\n",
       "      <th>6</th>\n",
       "      <td>1985</td>\n",
       "      <td>2679</td>\n",
       "      <td>39</td>\n",
       "    </tr>\n",
       "    <tr>\n",
       "      <th>7</th>\n",
       "      <td>1989</td>\n",
       "      <td>2558</td>\n",
       "      <td>35</td>\n",
       "    </tr>\n",
       "    <tr>\n",
       "      <th>8</th>\n",
       "      <td>1988</td>\n",
       "      <td>2338</td>\n",
       "      <td>36</td>\n",
       "    </tr>\n",
       "    <tr>\n",
       "      <th>9</th>\n",
       "      <td>1982</td>\n",
       "      <td>1921</td>\n",
       "      <td>42</td>\n",
       "    </tr>\n",
       "  </tbody>\n",
       "</table>\n",
       "</div>"
      ],
      "text/plain": [
       "   Officer YOB  arrest_count  Officer probable age\n",
       "0         1986          3596                    38\n",
       "1         1987          3353                    37\n",
       "2         1991          2971                    33\n",
       "3         1984          2949                    40\n",
       "4         1992          2892                    32\n",
       "5         1990          2733                    34\n",
       "6         1985          2679                    39\n",
       "7         1989          2558                    35\n",
       "8         1988          2338                    36\n",
       "9         1982          1921                    42"
      ]
     },
     "execution_count": 15,
     "metadata": {},
     "output_type": "execute_result"
    }
   ],
   "source": [
    "q7 = \"\"\"\n",
    "SELECT \"Officer YOB\", \n",
    "       CAST(COUNT(\"Arrest Flag\") AS INTEGER) AS arrest_count,ABS(\"Officer YOB\"-2024)AS \"Officer probable age\"\n",
    "FROM df\n",
    "WHERE \"Arrest Flag\" ==0 AND \"Officer probable age\"<=53\n",
    "GROUP BY \"Officer YOB\"\n",
    "ORDER BY arrest_count DESC\n",
    "LIMIT 10\n",
    "\"\"\"\n",
    "officer_experience = pysqldf(q7)\n",
    "officer_experience\n"
   ]
  },
  {
   "cell_type": "code",
   "execution_count": 16,
   "metadata": {},
   "outputs": [
    {
     "data": {
      "image/png": "[encoded data removed]",
      "text/plain": [
       "<Figure size 720x432 with 1 Axes>"
      ]
     },
     "metadata": {
      "needs_background": "light"
     },
     "output_type": "display_data"
    }
   ],
   "source": [
    "plt.figure(figsize=(10, 6))\n",
    "plt.bar(officer_experience[\"Officer probable age\"], officer_experience[\"arrest_count\"], color='skyblue', edgecolor='black')\n",
    "\n",
    "# Customize the plot\n",
    "plt.title(\"Arrest Count vs Officer Probable Age\", fontsize=16)\n",
    "plt.xlabel(\"Officer Probable Age\", fontsize=14)\n",
    "plt.ylabel(\"Arrest Count\", fontsize=14)\n",
    "plt.xticks(officer_experience[\"Officer probable age\"],fontsize=12)\n",
    "plt.yticks(fontsize=12)\n",
    "plt.grid(axis='y', linestyle='--', alpha=0.7)\n",
    "\n"
   ]
  },
  {
   "cell_type": "markdown",
   "metadata": {},
   "source": [
    "observation:\n",
    "officers betweenthe ages of 32 and 42 initiated the most terry stops but did not make an arrest.this leads to the question is there a relationship between officer age and terry stops initiated?"
   ]
  },
  {
   "cell_type": "markdown",
   "metadata": {},
   "source": [
    "### correlation between officer age and terry stops initiated"
   ]
  },
  {
   "cell_type": "code",
   "execution_count": 17,
   "metadata": {},
   "outputs": [
    {
     "data": {
      "text/plain": [
       "0.13973448176624767"
      ]
     },
     "execution_count": 17,
     "metadata": {},
     "output_type": "execute_result"
    }
   ],
   "source": [
    "correlation=df[\"Officer YOB\"].corr(df[\"Arrest Flag\"])\n",
    "correlation"
   ]
  },
  {
   "cell_type": "code",
   "execution_count": 18,
   "metadata": {},
   "outputs": [
    {
     "data": {
      "image/png": "[encoded data removed]",
      "text/plain": [
       "<Figure size 720x432 with 1 Axes>"
      ]
     },
     "metadata": {
      "needs_background": "light"
     },
     "output_type": "display_data"
    },
    {
     "data": {
      "text/plain": [
       "0.13973448176624767"
      ]
     },
     "execution_count": 18,
     "metadata": {},
     "output_type": "execute_result"
    }
   ],
   "source": [
    "# Creating a scatter plot to visualize the correlation\n",
    "plt.figure(figsize=(10, 6))\n",
    "plt.scatter(df[\"Officer YOB\"], df[\"Arrest Flag\"], color='blue', alpha=0.5, edgecolor='black')\n",
    "plt.title(f\"Scatter Plot of Officer YOB vs Arrest Flag\\nCorrelation: {correlation:.2f}\", fontsize=16)\n",
    "plt.xlabel(\"Officer YOB\", fontsize=14)\n",
    "plt.ylabel(\"Arrest Flag\", fontsize=14)\n",
    "plt.xticks(fontsize=12)\n",
    "plt.yticks(fontsize=12)\n",
    "plt.grid(alpha=0.3)\n",
    "plt.tight_layout()\n",
    "plt.show()\n",
    "correlation\n"
   ]
  },
  {
   "cell_type": "markdown",
   "metadata": {},
   "source": [
    "A correlation of 0.14 indicates a very week correlation.this indicates that there is no linear relationship between the officer age and terry stops.We can conclude that terry stops do not depend on any age and can be initiated by anny officer of any age."
   ]
  },
  {
   "cell_type": "markdown",
   "metadata": {},
   "source": [
    "### what is the relationship between date,day of the week and arrest flag"
   ]
  },
  {
   "cell_type": "code",
   "execution_count": 19,
   "metadata": {},
   "outputs": [
    {
     "name": "stdout",
     "output_type": "stream",
     "text": [
      "╒════╤══════════════════╤═══════════════╤═══════════╕\n",
      "│    │   reported_Month │   day_of_week │   Arrests │\n",
      "╞════╪══════════════════╪═══════════════╪═══════════╡\n",
      "│  0 │                5 │             3 │       670 │\n",
      "├────┼──────────────────┼───────────────┼───────────┤\n",
      "│  1 │                7 │             6 │       631 │\n",
      "├────┼──────────────────┼───────────────┼───────────┤\n",
      "│  2 │               10 │             4 │       625 │\n",
      "├────┼──────────────────┼───────────────┼───────────┤\n",
      "│  3 │               11 │             3 │       596 │\n",
      "├────┼──────────────────┼───────────────┼───────────┤\n",
      "│  4 │                9 │             5 │       585 │\n",
      "├────┼──────────────────┼───────────────┼───────────┤\n",
      "│  5 │                6 │             6 │       566 │\n",
      "├────┼──────────────────┼───────────────┼───────────┤\n",
      "│  6 │                8 │             1 │       539 │\n",
      "├────┼──────────────────┼───────────────┼───────────┤\n",
      "│  7 │                1 │             6 │       535 │\n",
      "├────┼──────────────────┼───────────────┼───────────┤\n",
      "│  8 │               12 │             0 │       523 │\n",
      "├────┼──────────────────┼───────────────┼───────────┤\n",
      "│  9 │                3 │             4 │       519 │\n",
      "├────┼──────────────────┼───────────────┼───────────┤\n",
      "│ 10 │                4 │             0 │       507 │\n",
      "├────┼──────────────────┼───────────────┼───────────┤\n",
      "│ 11 │                2 │             2 │       464 │\n",
      "╘════╧══════════════════╧═══════════════╧═══════════╛\n"
     ]
    }
   ],
   "source": [
    "#Day of the week:monday:0,tuesday:1,wednesday:2,thursday:3,friday:4,saturday:5,sunday:6\n",
    "q8=\"\"\"\n",
    "SELECT \"reported_Month\",day_of_week,COUNT(\"Arrest Flag\") AS Arrests\n",
    "FROM df\n",
    "WHERE \"Arrest Flag\"==1\n",
    "GROUP BY \"reported_Month\"\n",
    "ORDER BY Arrests desc\n",
    "\"\"\"\n",
    "arrest_time=pysqldf(q8)\n",
    "print(tabulate(arrest_time, headers=\"keys\", tablefmt=\"fancy_grid\"))"
   ]
  },
  {
   "cell_type": "markdown",
   "metadata": {},
   "source": [
    "The terry stops that led to arrest occured on friday through to\n",
    "saturday.the top 5 months that recorded the highest number of arrests were May with 670 arrests.August,September,October November also registered high numbers of arrests .The least arrests were made in , December, January,February,March and April."
   ]
  },
  {
   "cell_type": "code",
   "execution_count": 20,
   "metadata": {},
   "outputs": [
    {
     "data": {
      "image/png": "[encoded data removed]",
      "text/plain": [
       "<Figure size 720x432 with 2 Axes>"
      ]
     },
     "metadata": {
      "needs_background": "light"
     },
     "output_type": "display_data"
    }
   ],
   "source": [
    "# Group by month and day of week, then pivot for heatmap data\n",
    "heatmap_data =df.pivot_table(\n",
    "    values='Arrest Flag',\n",
    "    index='reported_Month',\n",
    "    columns='day_of_week',\n",
    "    aggfunc='sum',\n",
    "    fill_value=0\n",
    ")\n",
    "plt.figure(figsize=(10, 6))\n",
    "sns.heatmap(heatmap_data, annot=True, fmt=\".0f\", cmap=\"coolwarm\", cbar_kws={'label': 'Arrest Count'})\n",
    "plt.title(\"Heatmap of Arrest Counts by Month and Day of Week\")\n",
    "plt.xlabel(\"Day of Week (0=Monday, 6=Sunday)\")\n",
    "plt.ylabel(\"Reported Month\")\n",
    "plt.show()\n"
   ]
  },
  {
   "cell_type": "markdown",
   "metadata": {},
   "source": [
    "the heatmap shows that terry stops on weekends  in the month of october would likely get you booked.Now that we have seen the months and days of the week one is likely to be arrested as a result of terry stop.lets examine if being found with a weapon at a certain time of the day would add salt to the already injured wound.."
   ]
  },
  {
   "cell_type": "markdown",
   "metadata": {},
   "source": [
    "### does being found with a weapon or not likely to get you booked at a certain time of the day?"
   ]
  },
  {
   "cell_type": "code",
   "execution_count": 21,
   "metadata": {},
   "outputs": [
    {
     "data": {
      "image/png": "[encoded data removed]",
      "text/plain": [
       "<Figure size 576x432 with 1 Axes>"
      ]
     },
     "metadata": {
      "needs_background": "light"
     },
     "output_type": "display_data"
    },
    {
     "data": {
      "text/html": [
       "<div>\n",
       "<style scoped>\n",
       "    .dataframe tbody tr th:only-of-type {\n",
       "        vertical-align: middle;\n",
       "    }\n",
       "\n",
       "    .dataframe tbody tr th {\n",
       "        vertical-align: top;\n",
       "    }\n",
       "\n",
       "    .dataframe thead th {\n",
       "        text-align: right;\n",
       "    }\n",
       "</style>\n",
       "<table border=\"1\" class=\"dataframe\">\n",
       "  <thead>\n",
       "    <tr style=\"text-align: right;\">\n",
       "      <th>Arrest Flag</th>\n",
       "      <th>0</th>\n",
       "      <th>1</th>\n",
       "    </tr>\n",
       "    <tr>\n",
       "      <th>Weapon Type</th>\n",
       "      <th></th>\n",
       "      <th></th>\n",
       "    </tr>\n",
       "  </thead>\n",
       "  <tbody>\n",
       "    <tr>\n",
       "      <th>None</th>\n",
       "      <td>99.978280</td>\n",
       "      <td>0.021720</td>\n",
       "    </tr>\n",
       "    <tr>\n",
       "      <th>weapon unknown</th>\n",
       "      <td>76.746665</td>\n",
       "      <td>23.253335</td>\n",
       "    </tr>\n",
       "    <tr>\n",
       "      <th>weapon_found</th>\n",
       "      <td>77.880421</td>\n",
       "      <td>22.119579</td>\n",
       "    </tr>\n",
       "  </tbody>\n",
       "</table>\n",
       "</div>"
      ],
      "text/plain": [
       "Arrest Flag             0          1\n",
       "Weapon Type                         \n",
       "None            99.978280   0.021720\n",
       "weapon unknown  76.746665  23.253335\n",
       "weapon_found    77.880421  22.119579"
      ]
     },
     "execution_count": 21,
     "metadata": {},
     "output_type": "execute_result"
    }
   ],
   "source": [
    "\n",
    "counts = df.groupby([\"Weapon Type\", \"Arrest Flag\"]).size().unstack(fill_value=0)\n",
    "\n",
    "# Normalize counts to percentages\n",
    "percentages = counts.div(counts.sum(axis=1), axis=0) * 100\n",
    "\n",
    "# Plot stacked percentage bar chart\n",
    "percentages.plot(kind=\"bar\", stacked=True, figsize=(8, 6), colormap=\"coolwarm\")\n",
    "\n",
    "# Add labels and title\n",
    "plt.title(\"Stacked Percentage Bar Chart of Arrests by Weapon Type\")\n",
    "plt.xlabel(\"Weapon Type\")\n",
    "plt.ylabel(\"Percentage\")\n",
    "plt.legend([\"No Arrest (0)\", \"Arrest (1)\"], title=\"Arrest Flag\")\n",
    "plt.show()\n",
    "percentages"
   ]
  },
  {
   "cell_type": "markdown",
   "metadata": {},
   "source": [
    "when a suspect is not found with a weapon,99.97% of the time he is realeased.weapon type unknown accounted for  about 23% while weapon found accounted for 22% of the arrests.only 0.022%of people not found with a weapon are arrested."
   ]
  },
  {
   "cell_type": "code",
   "execution_count": 22,
   "metadata": {},
   "outputs": [
    {
     "data": {
      "image/png": "[encoded data removed]",
      "text/plain": [
       "<Figure size 576x432 with 1 Axes>"
      ]
     },
     "metadata": {
      "needs_background": "light"
     },
     "output_type": "display_data"
    }
   ],
   "source": [
    "import seaborn as sns\n",
    "\n",
    "# Box plot to compare the distribution of Time for Arrest Flag\n",
    "plt.figure(figsize=(8, 6))\n",
    "sns.boxplot(x='Arrest Flag', y='Time', data=df)\n",
    "plt.title(\"Box Plot of Time by Arrest Flag\")\n",
    "plt.xlabel(\"Arrest Flag\")\n",
    "plt.ylabel(\"Time\")\n",
    "plt.show()\n"
   ]
  },
  {
   "cell_type": "markdown",
   "metadata": {},
   "source": [
    "from the boxplot time of the day did not really  affect terry stop arrests."
   ]
  },
  {
   "cell_type": "markdown",
   "metadata": {},
   "source": [
    "## MODELLING AND EVALUATION"
   ]
  },
  {
   "cell_type": "markdown",
   "metadata": {},
   "source": [
    "our model is to topredict if a terry stop will lead to an arrest or not."
   ]
  },
  {
   "cell_type": "code",
   "execution_count": 23,
   "metadata": {},
   "outputs": [],
   "source": [
    "mdata=df.copy()"
   ]
  },
  {
   "cell_type": "code",
   "execution_count": 24,
   "metadata": {},
   "outputs": [
    {
     "name": "stdout",
     "output_type": "stream",
     "text": [
      "<class 'pandas.core.frame.DataFrame'>\n",
      "RangeIndex: 61459 entries, 0 to 61458\n",
      "Data columns (total 18 columns):\n",
      " #   Column             Non-Null Count  Dtype \n",
      "---  ------             --------------  ----- \n",
      " 0   Subject Age Group  61459 non-null  object\n",
      " 1   GO / SC Num        61459 non-null  int64 \n",
      " 2   Stop Resolution    61459 non-null  object\n",
      " 3   Weapon Type        61459 non-null  object\n",
      " 4   Officer YOB        61459 non-null  int64 \n",
      " 5   Initial Call Type  61459 non-null  object\n",
      " 6   Final Call Type    61459 non-null  object\n",
      " 7   Call Type          61459 non-null  object\n",
      " 8   Officer Squad      61459 non-null  object\n",
      " 9   Arrest Flag        61459 non-null  int64 \n",
      " 10  Frisk Flag         61459 non-null  int64 \n",
      " 11  Precinct           61459 non-null  object\n",
      " 12  Sector             61459 non-null  object\n",
      " 13  Beat               61459 non-null  object\n",
      " 14  reported_Year      61459 non-null  int64 \n",
      " 15  reported_Month     61459 non-null  int64 \n",
      " 16  day_of_week        61459 non-null  int64 \n",
      " 17  Time               61459 non-null  int64 \n",
      "dtypes: int64(8), object(10)\n",
      "memory usage: 8.4+ MB\n"
     ]
    }
   ],
   "source": [
    "mdata.info()"
   ]
  },
  {
   "cell_type": "code",
   "execution_count": 25,
   "metadata": {},
   "outputs": [
    {
     "name": "stdout",
     "output_type": "stream",
     "text": [
      "<class 'pandas.core.frame.DataFrame'>\n",
      "RangeIndex: 61459 entries, 0 to 61458\n",
      "Data columns (total 18 columns):\n",
      " #   Column             Non-Null Count  Dtype \n",
      "---  ------             --------------  ----- \n",
      " 0   Subject Age Group  61459 non-null  object\n",
      " 1   GO / SC Num        61459 non-null  int64 \n",
      " 2   Stop Resolution    61459 non-null  object\n",
      " 3   Weapon Type        61459 non-null  object\n",
      " 4   Officer YOB        61459 non-null  int64 \n",
      " 5   Initial Call Type  61459 non-null  object\n",
      " 6   Final Call Type    61459 non-null  object\n",
      " 7   Call Type          61459 non-null  object\n",
      " 8   Officer Squad      61459 non-null  object\n",
      " 9   Arrest Flag        61459 non-null  int64 \n",
      " 10  Frisk Flag         61459 non-null  int64 \n",
      " 11  Precinct           61459 non-null  object\n",
      " 12  Sector             61459 non-null  object\n",
      " 13  Beat               61459 non-null  object\n",
      " 14  reported_Year      61459 non-null  int64 \n",
      " 15  reported_Month     61459 non-null  int64 \n",
      " 16  day_of_week        61459 non-null  int64 \n",
      " 17  Time               61459 non-null  int64 \n",
      "dtypes: int64(8), object(10)\n",
      "memory usage: 8.4+ MB\n"
     ]
    }
   ],
   "source": [
    "mdata.info()"
   ]
  },
  {
   "cell_type": "code",
   "execution_count": 26,
   "metadata": {},
   "outputs": [],
   "source": [
    "#frequency encoding the object columns\n",
    "class FrequencyEncoder:\n",
    "    def __init__(self, data):\n",
    "        self.data = data \n",
    "\n",
    "    def encode_column(self, column_name):\n",
    "        frequency = self.data[column_name].value_counts()\n",
    "        self.data[column_name] = self.data[column_name].map(frequency)\n",
    "\n",
    "    def encode_columns(self, columns):\n",
    "        for column in columns:\n",
    "            self.encode_column(column)\n",
    "    def get_data(self):\n",
    "        return self.data\n",
    "encoder = FrequencyEncoder(mdata)\n",
    "columns_to_encode = [\"Subject Age Group\", \"Stop Resolution\", \"Weapon Type\", \"Initial Call Type\",\"Final Call Type\",\"Officer Squad\",\"Frisk Flag\",\"Precinct\",\"Sector\",\"Beat\",\"Call Type\"]\n",
    "encoder.encode_columns(columns_to_encode)\n",
    "encoded_data = encoder.get_data()"
   ]
  },
  {
   "cell_type": "code",
   "execution_count": 27,
   "metadata": {},
   "outputs": [
    {
     "name": "stdout",
     "output_type": "stream",
     "text": [
      "<class 'pandas.core.frame.DataFrame'>\n",
      "RangeIndex: 61459 entries, 0 to 61458\n",
      "Data columns (total 18 columns):\n",
      " #   Column             Non-Null Count  Dtype\n",
      "---  ------             --------------  -----\n",
      " 0   Subject Age Group  61459 non-null  int64\n",
      " 1   GO / SC Num        61459 non-null  int64\n",
      " 2   Stop Resolution    61459 non-null  int64\n",
      " 3   Weapon Type        61459 non-null  int64\n",
      " 4   Officer YOB        61459 non-null  int64\n",
      " 5   Initial Call Type  61459 non-null  int64\n",
      " 6   Final Call Type    61459 non-null  int64\n",
      " 7   Call Type          61459 non-null  int64\n",
      " 8   Officer Squad      61459 non-null  int64\n",
      " 9   Arrest Flag        61459 non-null  int64\n",
      " 10  Frisk Flag         61459 non-null  int64\n",
      " 11  Precinct           61459 non-null  int64\n",
      " 12  Sector             61459 non-null  int64\n",
      " 13  Beat               61459 non-null  int64\n",
      " 14  reported_Year      61459 non-null  int64\n",
      " 15  reported_Month     61459 non-null  int64\n",
      " 16  day_of_week        61459 non-null  int64\n",
      " 17  Time               61459 non-null  int64\n",
      "dtypes: int64(18)\n",
      "memory usage: 8.4 MB\n"
     ]
    }
   ],
   "source": [
    "mdata.info()"
   ]
  },
  {
   "cell_type": "code",
   "execution_count": 28,
   "metadata": {},
   "outputs": [],
   "source": [
    "#spllitting the data into traing and test \n",
    "from sklearn.model_selection import train_test_split\n"
   ]
  },
  {
   "cell_type": "code",
   "execution_count": 29,
   "metadata": {},
   "outputs": [
    {
     "name": "stdout",
     "output_type": "stream",
     "text": [
      "              Feature        VIF\n",
      "0               const   0.000000\n",
      "1   Subject Age Group   1.006357\n",
      "2         GO / SC Num   1.103506\n",
      "3     Stop Resolution   1.518859\n",
      "4         Weapon Type   1.356148\n",
      "5         Officer YOB   1.207795\n",
      "6   Initial Call Type   8.417151\n",
      "7     Final Call Type   8.015802\n",
      "8           Call Type   1.277958\n",
      "9       Officer Squad   1.051114\n",
      "10        Arrest Flag   1.248224\n",
      "11         Frisk Flag   1.178598\n",
      "12           Precinct   1.410396\n",
      "13             Sector  16.663518\n",
      "14               Beat  17.388017\n",
      "15      reported_Year   0.204092\n",
      "16     reported_Month   1.001086\n",
      "17        day_of_week   1.001510\n",
      "18               Time   1.006695\n"
     ]
    }
   ],
   "source": [
    "import pandas as pd\n",
    "from statsmodels.stats.outliers_influence import variance_inflation_factor\n",
    "from statsmodels.tools.tools import add_constant\n",
    "\n",
    "data_with_constant = add_constant(mdata)\n",
    "\n",
    "# Calculate VIF for each feature\n",
    "vif = pd.DataFrame()\n",
    "vif[\"Feature\"] = data_with_constant.columns\n",
    "vif[\"VIF\"] = [\n",
    "    variance_inflation_factor(data_with_constant.values, i)\n",
    "    for i in range(data_with_constant.shape[1])\n",
    "]\n",
    "\n",
    "# Display VIF\n",
    "print(vif)"
   ]
  },
  {
   "cell_type": "code",
   "execution_count": 30,
   "metadata": {},
   "outputs": [],
   "source": [
    "#dropping the initial call type \n",
    "mdata = mdata.drop(columns=[\"Initial Call Type\",\"Beat\"], axis=1)"
   ]
  },
  {
   "cell_type": "code",
   "execution_count": 31,
   "metadata": {},
   "outputs": [
    {
     "name": "stdout",
     "output_type": "stream",
     "text": [
      "<class 'pandas.core.frame.DataFrame'>\n",
      "RangeIndex: 61459 entries, 0 to 61458\n",
      "Data columns (total 16 columns):\n",
      " #   Column             Non-Null Count  Dtype\n",
      "---  ------             --------------  -----\n",
      " 0   Subject Age Group  61459 non-null  int64\n",
      " 1   GO / SC Num        61459 non-null  int64\n",
      " 2   Stop Resolution    61459 non-null  int64\n",
      " 3   Weapon Type        61459 non-null  int64\n",
      " 4   Officer YOB        61459 non-null  int64\n",
      " 5   Final Call Type    61459 non-null  int64\n",
      " 6   Call Type          61459 non-null  int64\n",
      " 7   Officer Squad      61459 non-null  int64\n",
      " 8   Arrest Flag        61459 non-null  int64\n",
      " 9   Frisk Flag         61459 non-null  int64\n",
      " 10  Precinct           61459 non-null  int64\n",
      " 11  Sector             61459 non-null  int64\n",
      " 12  reported_Year      61459 non-null  int64\n",
      " 13  reported_Month     61459 non-null  int64\n",
      " 14  day_of_week        61459 non-null  int64\n",
      " 15  Time               61459 non-null  int64\n",
      "dtypes: int64(16)\n",
      "memory usage: 7.5 MB\n"
     ]
    }
   ],
   "source": [
    "mdata.info()"
   ]
  },
  {
   "cell_type": "code",
   "execution_count": null,
   "metadata": {},
   "outputs": [],
   "source": []
  },
  {
   "cell_type": "code",
   "execution_count": 32,
   "metadata": {},
   "outputs": [
    {
     "name": "stdout",
     "output_type": "stream",
     "text": [
      "              Feature       VIF\n",
      "0               const  0.000000\n",
      "1   Subject Age Group  1.006018\n",
      "2         GO / SC Num  1.103474\n",
      "3     Stop Resolution  1.513297\n",
      "4         Weapon Type  1.349366\n",
      "5         Officer YOB  1.204325\n",
      "6     Final Call Type  1.873423\n",
      "7           Call Type  1.220539\n",
      "8       Officer Squad  1.050681\n",
      "9         Arrest Flag  1.242092\n",
      "10         Frisk Flag  1.177725\n",
      "11           Precinct  1.071247\n",
      "12             Sector  1.619135\n",
      "13      reported_Year  0.203904\n",
      "14     reported_Month  1.001021\n",
      "15        day_of_week  1.001436\n",
      "16               Time  1.006334\n"
     ]
    }
   ],
   "source": [
    "data_with_constant = add_constant(mdata)\n",
    "\n",
    "# Calculate VIF for each feature\n",
    "vif = pd.DataFrame()\n",
    "vif[\"Feature\"] = data_with_constant.columns\n",
    "vif[\"VIF\"] = [\n",
    "    variance_inflation_factor(data_with_constant.values, i)\n",
    "    for i in range(data_with_constant.shape[1])\n",
    "]\n",
    "\n",
    "# Display VIF\n",
    "print(vif)"
   ]
  },
  {
   "cell_type": "code",
   "execution_count": 33,
   "metadata": {},
   "outputs": [],
   "source": [
    "# splitting the data\n",
    "y=mdata[\"Arrest Flag\"]\n",
    "X=mdata.drop([\"Arrest Flag\"],axis=1)"
   ]
  },
  {
   "cell_type": "markdown",
   "metadata": {},
   "source": [
    "### Building a logistic regression baseline model"
   ]
  },
  {
   "cell_type": "code",
   "execution_count": 69,
   "metadata": {},
   "outputs": [
    {
     "data": {
      "text/plain": [
       "0    0.890008\n",
       "1    0.109992\n",
       "Name: Arrest Flag, dtype: float64"
      ]
     },
     "execution_count": 69,
     "metadata": {},
     "output_type": "execute_result"
    }
   ],
   "source": [
    "#checking for class imbalance\n",
    "mdata[\"Arrest Flag\"].value_counts(normalize=True)\n",
    "#there is a great imbalance in the target with arrests made being only about 10%"
   ]
  },
  {
   "cell_type": "code",
   "execution_count": 75,
   "metadata": {},
   "outputs": [
    {
     "name": "stdout",
     "output_type": "stream",
     "text": [
      "Before SMOTE: Counter({0: 41062, 1: 5032})\n",
      "After SMOTE: Counter({0: 41062, 1: 41062})\n"
     ]
    }
   ],
   "source": [
    "#splitting the data into train and test data\n",
    "X_train, X_test, y_train, y_test=train_test_split(X,y,test_size=0.25,random_state=42)\n",
    "#using smote to handle the class imbalance.\n",
    "from imblearn.over_sampling import SMOTE\n",
    "# Initialize SMOTE\n",
    "smote = SMOTE(random_state=42)\n",
    "# Resample the dataset\n",
    "X_resampled, y_resampled = smote.fit_resample(X_train, y_train)\n",
    "from collections import Counter\n",
    "print(\"Before SMOTE:\", Counter(y_train))\n",
    "print(\"After SMOTE:\", Counter(y_resampled))\n"
   ]
  },
  {
   "cell_type": "code",
   "execution_count": 76,
   "metadata": {},
   "outputs": [],
   "source": [
    "from sklearn.preprocessing import StandardScaler\n",
    "scaler = StandardScaler()\n",
    "X_resampled = scaler.fit_transform(X_resampled)\n",
    "X_test = scaler.transform(X_test)\n"
   ]
  },
  {
   "cell_type": "code",
   "execution_count": 77,
   "metadata": {},
   "outputs": [],
   "source": [
    "# instantiatingthe model\n",
    "logreg=LogisticRegression(random_state=42)\n",
    "#fitting the regression on the train dataset\n",
    "reg_model=logreg.fit(X_resampled,y_resampled)\n",
    "#making prediction on the test data\n",
    "y_pred=reg_model.predict(X_test)"
   ]
  },
  {
   "cell_type": "code",
   "execution_count": 78,
   "metadata": {},
   "outputs": [
    {
     "data": {
      "text/plain": [
       "array([[12538,  1099],\n",
       "       [   22,  1706]])"
      ]
     },
     "execution_count": 78,
     "metadata": {},
     "output_type": "execute_result"
    }
   ],
   "source": [
    "#evaluating the model\n",
    "from sklearn.metrics import confusion_matrix,accuracy_score,classification_report\n",
    "conf_matrix=confusion_matrix(y_test,y_pred)\n",
    "conf_matrix"
   ]
  },
  {
   "cell_type": "code",
   "execution_count": 79,
   "metadata": {},
   "outputs": [
    {
     "data": {
      "text/plain": [
       "0.9270419785226164"
      ]
     },
     "execution_count": 79,
     "metadata": {},
     "output_type": "execute_result"
    }
   ],
   "source": [
    " #checking for accuracy score\n",
    "accuracy=accuracy_score(y_test,y_pred)\n",
    "accuracy"
   ]
  },
  {
   "cell_type": "markdown",
   "metadata": {},
   "source": [
    "# building  a baseline decision tree classifier model\n"
   ]
  },
  {
   "cell_type": "code",
   "execution_count": 80,
   "metadata": {
    "scrolled": true
   },
   "outputs": [],
   "source": [
    "#scallling the training and test datasets.scalling is done after the split to prevent data leakage.\n",
    "#train scalling\n",
    "from sklearn.preprocessing import StandardScaler\n",
    "from sklearn.tree import DecisionTreeClassifier\n",
    "from sklearn import tree\n"
   ]
  },
  {
   "cell_type": "code",
   "execution_count": null,
   "metadata": {},
   "outputs": [],
   "source": []
  },
  {
   "cell_type": "code",
   "execution_count": 81,
   "metadata": {},
   "outputs": [],
   "source": [
    "#creating a decision tree classifier \n",
    "clf = DecisionTreeClassifier(criterion='entropy',random_state=42)"
   ]
  },
  {
   "cell_type": "code",
   "execution_count": 89,
   "metadata": {},
   "outputs": [],
   "source": [
    "#building a model\n",
    "model_clf=clf.fit(X_resampled,y_resampled)"
   ]
  },
  {
   "cell_type": "code",
   "execution_count": 90,
   "metadata": {},
   "outputs": [],
   "source": [
    "#predicting y based on the x_test\n",
    "y_pred=model_clf.predict(X_test)"
   ]
  },
  {
   "cell_type": "code",
   "execution_count": 91,
   "metadata": {},
   "outputs": [
    {
     "data": {
      "text/plain": [
       "array([[13636,     1],\n",
       "       [    1,  1727]])"
      ]
     },
     "execution_count": 91,
     "metadata": {},
     "output_type": "execute_result"
    }
   ],
   "source": [
    "clf_conf_matrix=confusion_matrix(y_test,y_pred)\n",
    "clf_conf_matrix"
   ]
  },
  {
   "cell_type": "code",
   "execution_count": 92,
   "metadata": {},
   "outputs": [
    {
     "name": "stdout",
     "output_type": "stream",
     "text": [
      "              precision    recall  f1-score   support\n",
      "\n",
      "           0       1.00      1.00      1.00     13637\n",
      "           1       1.00      1.00      1.00      1728\n",
      "\n",
      "    accuracy                           1.00     15365\n",
      "   macro avg       1.00      1.00      1.00     15365\n",
      "weighted avg       1.00      1.00      1.00     15365\n",
      "\n"
     ]
    }
   ],
   "source": [
    "test_class_report=classification_report(y_test,y_pred)\n",
    "print(test_class_report)"
   ]
  },
  {
   "cell_type": "code",
   "execution_count": 104,
   "metadata": {},
   "outputs": [
    {
     "data": {
      "text/plain": [
       "array([[41062,     0],\n",
       "       [    0, 41062]])"
      ]
     },
     "execution_count": 104,
     "metadata": {},
     "output_type": "execute_result"
    }
   ],
   "source": [
    "#model performance on the train dataset\n",
    "y_train_pred=model_clf.predict(X_resampled)\n",
    "clf_train_conf_matrix=confusion_matrix(y_train_pred,y_resampled)\n",
    "clf_train_conf_matrix\n",
    "#class_report=classification_report(y_train_pred,y_train)\n",
    "#print(class_report)"
   ]
  },
  {
   "cell_type": "code",
   "execution_count": 94,
   "metadata": {},
   "outputs": [
    {
     "name": "stdout",
     "output_type": "stream",
     "text": [
      "Cross-validation scores: [0.99969559 1.         1.         1.         0.99993911]\n"
     ]
    }
   ],
   "source": [
    "from sklearn.model_selection import cross_val_score\n",
    "cross_val_scores = cross_val_score(clf, X_resampled, y_resampled, cv=5)\n",
    "print(\"Cross-validation scores:\", cross_val_scores)"
   ]
  },
  {
   "cell_type": "code",
   "execution_count": 95,
   "metadata": {},
   "outputs": [
    {
     "data": {
      "image/png": "[encoded data removed]",
      "text/plain": [
       "<Figure size 576x432 with 1 Axes>"
      ]
     },
     "metadata": {
      "needs_background": "light"
     },
     "output_type": "display_data"
    }
   ],
   "source": [
    "import matplotlib.pyplot as plt\n",
    "from sklearn.metrics import roc_curve, auc\n",
    "from sklearn.model_selection import train_test_split\n",
    "from sklearn.tree import DecisionTreeClassifier\n",
    "\n",
    "\n",
    "# Get predicted probabilities for the positive class\n",
    "y_pred_proba = model_clf.predict_proba(X_test)[:, 1]  # Probabilities for class 1\n",
    "\n",
    "# Compute the ROC curve\n",
    "fpr, tpr, thresholds = roc_curve(y_test, y_pred_proba)\n",
    "\n",
    "# Compute the Area Under the Curve (AUC)\n",
    "roc_auc = auc(fpr, tpr)\n",
    "\n",
    "# Plot the ROC curve\n",
    "plt.figure(figsize=(8, 6))\n",
    "plt.plot(fpr, tpr, color='blue', label=f'ROC Curve (AUC = {roc_auc:.2f})')\n",
    "plt.plot([0, 1], [0, 1], color='gray', linestyle='--')  # Diagonal line\n",
    "plt.title('Receiver Operating Characteristic (ROC) Curve')\n",
    "plt.xlabel('False Positive Rate')\n",
    "plt.ylabel('True Positive Rate')\n",
    "plt.legend(loc='lower right')\n",
    "plt.grid()\n",
    "plt.show()\n"
   ]
  },
  {
   "cell_type": "markdown",
   "metadata": {},
   "source": [
    "the model exhibit perfect performance in classifying the arrest flag.this may indicate an overfitting."
   ]
  },
  {
   "cell_type": "code",
   "execution_count": 97,
   "metadata": {},
   "outputs": [
    {
     "name": "stdout",
     "output_type": "stream",
     "text": [
      "Fitting 5 folds for each of 108 candidates, totalling 540 fits\n",
      "Best parameters: {'criterion': 'entropy', 'max_depth': None, 'min_samples_leaf': 1, 'min_samples_split': 10}\n"
     ]
    }
   ],
   "source": [
    "#Hyper parameter tuning to resolve the problem of overfitting\n",
    "from sklearn.tree import DecisionTreeClassifier\n",
    "from sklearn.model_selection import GridSearchCV\n",
    "\n",
    "# Define the model\n",
    "clf = DecisionTreeClassifier(random_state=42)\n",
    "\n",
    "# Define the hyperparameter grid\n",
    "param_grid = {\n",
    "    'criterion': ['gini', 'entropy'],           # Function to measure the quality of a split\n",
    "    'max_depth': [None, 10, 20, 30, 40, 50],    # Maximum depth of the tree\n",
    "    'min_samples_split': [2, 10, 20],           # Minimum number of samples to split an internal node\n",
    "    'min_samples_leaf': [1, 5, 10],             # Minimum number of samples at a leaf node\n",
    "}\n",
    "\n",
    "# Set up GridSearchCV\n",
    "grid_search = GridSearchCV(estimator=clf, param_grid=param_grid, cv=5, scoring='accuracy', n_jobs=-1, verbose=2)\n",
    "\n",
    "# Fit the grid search to the data\n",
    "grid_search.fit(X_resampled, y_resampled)\n",
    "\n",
    "# Best hyperparameters\n",
    "print(\"Best parameters:\", grid_search.best_params_)\n"
   ]
  },
  {
   "cell_type": "code",
   "execution_count": 98,
   "metadata": {},
   "outputs": [],
   "source": [
    "#creating another model filling in the parameters\n",
    "clf_tuned=DecisionTreeClassifier(criterion='entropy',min_samples_leaf=1,min_samples_split=20,random_state=42)"
   ]
  },
  {
   "cell_type": "code",
   "execution_count": 99,
   "metadata": {},
   "outputs": [],
   "source": [
    "tuned_model=clf_tuned.fit(X_resampled,y_resampled)"
   ]
  },
  {
   "cell_type": "code",
   "execution_count": 100,
   "metadata": {},
   "outputs": [],
   "source": [
    "y_pred1=tuned_model.predict(X_test)"
   ]
  },
  {
   "cell_type": "code",
   "execution_count": 101,
   "metadata": {},
   "outputs": [
    {
     "data": {
      "text/plain": [
       "array([[13636,     1],\n",
       "       [    1,  1727]])"
      ]
     },
     "execution_count": 101,
     "metadata": {},
     "output_type": "execute_result"
    }
   ],
   "source": [
    "#evaluating the performance of the model with the tuned parameters\n",
    "con_matrix=confusion_matrix(y_test,y_pred1)\n",
    "con_matrix"
   ]
  },
  {
   "cell_type": "code",
   "execution_count": 102,
   "metadata": {},
   "outputs": [
    {
     "data": {
      "image/png": "[encoded data removed]",
      "text/plain": [
       "<Figure size 576x432 with 1 Axes>"
      ]
     },
     "metadata": {
      "needs_background": "light"
     },
     "output_type": "display_data"
    }
   ],
   "source": [
    "y_pred_proba = tuned_model.predict_proba(X_test)[:, 1]  # Probabilities for class 1\n",
    "\n",
    "# Compute the ROC curve\n",
    "fpr, tpr, thresholds = roc_curve(y_test, y_pred_proba)\n",
    "\n",
    "# Compute the Area Under the Curve (AUC)\n",
    "roc_auc = auc(fpr, tpr)\n",
    "\n",
    "# Plot the ROC curve\n",
    "plt.figure(figsize=(8, 6))\n",
    "plt.plot(fpr, tpr, color='blue', label=f'ROC Curve (AUC = {roc_auc:.2f})')\n",
    "plt.plot([0, 1], [0, 1], color='gray', linestyle='--')  # Diagonal line\n",
    "plt.title('Receiver Operating Characteristic (ROC) Curve')\n",
    "plt.xlabel('False Positive Rate')\n",
    "plt.ylabel('True Positive Rate')\n",
    "plt.legend(loc='lower right')\n",
    "plt.grid()\n",
    "plt.show()"
   ]
  }
 ],
 "metadata": {
  "kernelspec": {
   "display_name": "Python 3",
   "language": "python",
   "name": "python3"
  },
  "language_info": {
   "codemirror_mode": {
    "name": "ipython",
    "version": 3
   },
   "file_extension": ".py",
   "mimetype": "text/x-python",
   "name": "python",
   "nbconvert_exporter": "python",
   "pygments_lexer": "ipython3",
   "version": "3.7.6"
  }
 },
 "nbformat": 4,
 "nbformat_minor": 4
}
